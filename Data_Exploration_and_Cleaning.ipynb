{
  "nbformat": 4,
  "nbformat_minor": 0,
  "metadata": {
    "colab": {
      "name": "SeattleAirbnb.ipynb",
      "provenance": [],
      "collapsed_sections": [
        "W207tsYNVrGQ",
        "mTLQ_pL7rHjB",
        "pKaHK7nZHFeh",
        "02Ompb5f9OmR",
        "EayJ1L-yGFXW",
        "a3QHZbXEseTs",
        "sL0pWyLdw5U1"
      ]
    },
    "kernelspec": {
      "name": "python3",
      "display_name": "Python 3"
    },
    "language_info": {
      "name": "python"
    }
  },
  "cells": [
    {
      "cell_type": "markdown",
      "metadata": {
        "id": "Dr1FhLushdAU"
      },
      "source": [
        "Author: Xiaoyi Huang  \n",
        "xiaoyihuang92@gmail.com  \n",
        "\n",
        "# Seattle Airbnb Data Analysis \n",
        "\n",
        "In this notebook, I'm going to find out the factors highly influence the price. "
      ]
    },
    {
      "cell_type": "code",
      "metadata": {
        "id": "WQkmjgrzhaAl"
      },
      "source": [
        "# import commonly used packages\n",
        "import numpy as np\n",
        "import pandas as pd\n",
        "import matplotlib.pyplot as plt\n",
        "import seaborn as sns\n",
        "%matplotlib inline"
      ],
      "execution_count": 1,
      "outputs": []
    },
    {
      "cell_type": "code",
      "metadata": {
        "id": "WUAij4vkxtpH"
      },
      "source": [
        "listings = pd.read_csv('https://raw.githubusercontent.com/XHuang2046/Seattle_Airbnb/main/Data/listings.csv')"
      ],
      "execution_count": 15,
      "outputs": []
    },
    {
      "cell_type": "code",
      "metadata": {
        "colab": {
          "base_uri": "https://localhost:8080/"
        },
        "id": "fWd-qh9RxzyW",
        "outputId": "e819a3b9-8228-4b9d-ae65-e0d1cffc93bc"
      },
      "source": [
        "listings.info()"
      ],
      "execution_count": 3,
      "outputs": [
        {
          "output_type": "stream",
          "text": [
            "<class 'pandas.core.frame.DataFrame'>\n",
            "RangeIndex: 3818 entries, 0 to 3817\n",
            "Data columns (total 92 columns):\n",
            " #   Column                            Non-Null Count  Dtype  \n",
            "---  ------                            --------------  -----  \n",
            " 0   id                                3818 non-null   int64  \n",
            " 1   listing_url                       3818 non-null   object \n",
            " 2   scrape_id                         3818 non-null   int64  \n",
            " 3   last_scraped                      3818 non-null   object \n",
            " 4   name                              3818 non-null   object \n",
            " 5   summary                           3641 non-null   object \n",
            " 6   space                             3249 non-null   object \n",
            " 7   description                       3818 non-null   object \n",
            " 8   experiences_offered               3818 non-null   object \n",
            " 9   neighborhood_overview             2786 non-null   object \n",
            " 10  notes                             2212 non-null   object \n",
            " 11  transit                           2884 non-null   object \n",
            " 12  thumbnail_url                     3498 non-null   object \n",
            " 13  medium_url                        3498 non-null   object \n",
            " 14  picture_url                       3818 non-null   object \n",
            " 15  xl_picture_url                    3498 non-null   object \n",
            " 16  host_id                           3818 non-null   int64  \n",
            " 17  host_url                          3818 non-null   object \n",
            " 18  host_name                         3816 non-null   object \n",
            " 19  host_since                        3816 non-null   object \n",
            " 20  host_location                     3810 non-null   object \n",
            " 21  host_about                        2959 non-null   object \n",
            " 22  host_response_time                3295 non-null   object \n",
            " 23  host_response_rate                3295 non-null   object \n",
            " 24  host_acceptance_rate              3045 non-null   object \n",
            " 25  host_is_superhost                 3816 non-null   object \n",
            " 26  host_thumbnail_url                3816 non-null   object \n",
            " 27  host_picture_url                  3816 non-null   object \n",
            " 28  host_neighbourhood                3518 non-null   object \n",
            " 29  host_listings_count               3816 non-null   float64\n",
            " 30  host_total_listings_count         3816 non-null   float64\n",
            " 31  host_verifications                3818 non-null   object \n",
            " 32  host_has_profile_pic              3816 non-null   object \n",
            " 33  host_identity_verified            3816 non-null   object \n",
            " 34  street                            3818 non-null   object \n",
            " 35  neighbourhood                     3402 non-null   object \n",
            " 36  neighbourhood_cleansed            3818 non-null   object \n",
            " 37  neighbourhood_group_cleansed      3818 non-null   object \n",
            " 38  city                              3818 non-null   object \n",
            " 39  state                             3818 non-null   object \n",
            " 40  zipcode                           3811 non-null   object \n",
            " 41  market                            3818 non-null   object \n",
            " 42  smart_location                    3818 non-null   object \n",
            " 43  country_code                      3818 non-null   object \n",
            " 44  country                           3818 non-null   object \n",
            " 45  latitude                          3818 non-null   float64\n",
            " 46  longitude                         3818 non-null   float64\n",
            " 47  is_location_exact                 3818 non-null   object \n",
            " 48  property_type                     3817 non-null   object \n",
            " 49  room_type                         3818 non-null   object \n",
            " 50  accommodates                      3818 non-null   int64  \n",
            " 51  bathrooms                         3802 non-null   float64\n",
            " 52  bedrooms                          3812 non-null   float64\n",
            " 53  beds                              3817 non-null   float64\n",
            " 54  bed_type                          3818 non-null   object \n",
            " 55  amenities                         3818 non-null   object \n",
            " 56  square_feet                       97 non-null     float64\n",
            " 57  price                             3818 non-null   object \n",
            " 58  weekly_price                      2009 non-null   object \n",
            " 59  monthly_price                     1517 non-null   object \n",
            " 60  security_deposit                  1866 non-null   object \n",
            " 61  cleaning_fee                      2788 non-null   object \n",
            " 62  guests_included                   3818 non-null   int64  \n",
            " 63  extra_people                      3818 non-null   object \n",
            " 64  minimum_nights                    3818 non-null   int64  \n",
            " 65  maximum_nights                    3818 non-null   int64  \n",
            " 66  calendar_updated                  3818 non-null   object \n",
            " 67  has_availability                  3818 non-null   object \n",
            " 68  availability_30                   3818 non-null   int64  \n",
            " 69  availability_60                   3818 non-null   int64  \n",
            " 70  availability_90                   3818 non-null   int64  \n",
            " 71  availability_365                  3818 non-null   int64  \n",
            " 72  calendar_last_scraped             3818 non-null   object \n",
            " 73  number_of_reviews                 3818 non-null   int64  \n",
            " 74  first_review                      3191 non-null   object \n",
            " 75  last_review                       3191 non-null   object \n",
            " 76  review_scores_rating              3171 non-null   float64\n",
            " 77  review_scores_accuracy            3160 non-null   float64\n",
            " 78  review_scores_cleanliness         3165 non-null   float64\n",
            " 79  review_scores_checkin             3160 non-null   float64\n",
            " 80  review_scores_communication       3167 non-null   float64\n",
            " 81  review_scores_location            3163 non-null   float64\n",
            " 82  review_scores_value               3162 non-null   float64\n",
            " 83  requires_license                  3818 non-null   object \n",
            " 84  license                           0 non-null      float64\n",
            " 85  jurisdiction_names                3818 non-null   object \n",
            " 86  instant_bookable                  3818 non-null   object \n",
            " 87  cancellation_policy               3818 non-null   object \n",
            " 88  require_guest_profile_picture     3818 non-null   object \n",
            " 89  require_guest_phone_verification  3818 non-null   object \n",
            " 90  calculated_host_listings_count    3818 non-null   int64  \n",
            " 91  reviews_per_month                 3191 non-null   float64\n",
            "dtypes: float64(17), int64(13), object(62)\n",
            "memory usage: 2.7+ MB\n"
          ],
          "name": "stdout"
        }
      ]
    },
    {
      "cell_type": "markdown",
      "metadata": {
        "id": "J0-k6UgChbiu"
      },
      "source": [
        "### Data Exploration and Cleaning"
      ]
    },
    {
      "cell_type": "code",
      "metadata": {
        "colab": {
          "base_uri": "https://localhost:8080/",
          "height": 526
        },
        "id": "JGm2XDT2TP4n",
        "outputId": "ebd13a18-899b-4f3f-85c8-919ebbb7f679"
      },
      "source": [
        "listings.head(3)"
      ],
      "execution_count": 7,
      "outputs": [
        {
          "output_type": "execute_result",
          "data": {
            "text/html": [
              "<div>\n",
              "<style scoped>\n",
              "    .dataframe tbody tr th:only-of-type {\n",
              "        vertical-align: middle;\n",
              "    }\n",
              "\n",
              "    .dataframe tbody tr th {\n",
              "        vertical-align: top;\n",
              "    }\n",
              "\n",
              "    .dataframe thead th {\n",
              "        text-align: right;\n",
              "    }\n",
              "</style>\n",
              "<table border=\"1\" class=\"dataframe\">\n",
              "  <thead>\n",
              "    <tr style=\"text-align: right;\">\n",
              "      <th></th>\n",
              "      <th>id</th>\n",
              "      <th>name</th>\n",
              "      <th>summary</th>\n",
              "      <th>space</th>\n",
              "      <th>description</th>\n",
              "      <th>experiences_offered</th>\n",
              "      <th>neighborhood_overview</th>\n",
              "      <th>notes</th>\n",
              "      <th>transit</th>\n",
              "      <th>host_id</th>\n",
              "      <th>host_name</th>\n",
              "      <th>host_since</th>\n",
              "      <th>host_location</th>\n",
              "      <th>host_about</th>\n",
              "      <th>host_response_time</th>\n",
              "      <th>host_response_rate</th>\n",
              "      <th>host_acceptance_rate</th>\n",
              "      <th>host_is_superhost</th>\n",
              "      <th>host_neighbourhood</th>\n",
              "      <th>host_listings_count</th>\n",
              "      <th>host_total_listings_count</th>\n",
              "      <th>host_verifications</th>\n",
              "      <th>host_has_profile_pic</th>\n",
              "      <th>host_identity_verified</th>\n",
              "      <th>street</th>\n",
              "      <th>neighbourhood</th>\n",
              "      <th>neighbourhood_cleansed</th>\n",
              "      <th>neighbourhood_group_cleansed</th>\n",
              "      <th>city</th>\n",
              "      <th>state</th>\n",
              "      <th>zipcode</th>\n",
              "      <th>market</th>\n",
              "      <th>smart_location</th>\n",
              "      <th>country_code</th>\n",
              "      <th>country</th>\n",
              "      <th>latitude</th>\n",
              "      <th>longitude</th>\n",
              "      <th>is_location_exact</th>\n",
              "      <th>property_type</th>\n",
              "      <th>room_type</th>\n",
              "      <th>...</th>\n",
              "      <th>bathrooms</th>\n",
              "      <th>bedrooms</th>\n",
              "      <th>beds</th>\n",
              "      <th>bed_type</th>\n",
              "      <th>amenities</th>\n",
              "      <th>square_feet</th>\n",
              "      <th>price</th>\n",
              "      <th>weekly_price</th>\n",
              "      <th>monthly_price</th>\n",
              "      <th>security_deposit</th>\n",
              "      <th>cleaning_fee</th>\n",
              "      <th>guests_included</th>\n",
              "      <th>extra_people</th>\n",
              "      <th>minimum_nights</th>\n",
              "      <th>maximum_nights</th>\n",
              "      <th>calendar_updated</th>\n",
              "      <th>has_availability</th>\n",
              "      <th>availability_30</th>\n",
              "      <th>availability_60</th>\n",
              "      <th>availability_90</th>\n",
              "      <th>availability_365</th>\n",
              "      <th>number_of_reviews</th>\n",
              "      <th>first_review</th>\n",
              "      <th>last_review</th>\n",
              "      <th>review_scores_rating</th>\n",
              "      <th>review_scores_accuracy</th>\n",
              "      <th>review_scores_cleanliness</th>\n",
              "      <th>review_scores_checkin</th>\n",
              "      <th>review_scores_communication</th>\n",
              "      <th>review_scores_location</th>\n",
              "      <th>review_scores_value</th>\n",
              "      <th>requires_license</th>\n",
              "      <th>license</th>\n",
              "      <th>jurisdiction_names</th>\n",
              "      <th>instant_bookable</th>\n",
              "      <th>cancellation_policy</th>\n",
              "      <th>require_guest_profile_picture</th>\n",
              "      <th>require_guest_phone_verification</th>\n",
              "      <th>calculated_host_listings_count</th>\n",
              "      <th>reviews_per_month</th>\n",
              "    </tr>\n",
              "  </thead>\n",
              "  <tbody>\n",
              "    <tr>\n",
              "      <th>0</th>\n",
              "      <td>241032</td>\n",
              "      <td>Stylish Queen Anne Apartment</td>\n",
              "      <td>NaN</td>\n",
              "      <td>Make your self at home in this charming one-be...</td>\n",
              "      <td>Make your self at home in this charming one-be...</td>\n",
              "      <td>none</td>\n",
              "      <td>NaN</td>\n",
              "      <td>NaN</td>\n",
              "      <td>NaN</td>\n",
              "      <td>956883</td>\n",
              "      <td>Maija</td>\n",
              "      <td>2011-08-11</td>\n",
              "      <td>Seattle, Washington, United States</td>\n",
              "      <td>I am an artist, interior designer, and run a s...</td>\n",
              "      <td>within a few hours</td>\n",
              "      <td>96%</td>\n",
              "      <td>100%</td>\n",
              "      <td>f</td>\n",
              "      <td>Queen Anne</td>\n",
              "      <td>3.0</td>\n",
              "      <td>3.0</td>\n",
              "      <td>['email', 'phone', 'reviews', 'kba']</td>\n",
              "      <td>t</td>\n",
              "      <td>t</td>\n",
              "      <td>Gilman Dr W, Seattle, WA 98119, United States</td>\n",
              "      <td>Queen Anne</td>\n",
              "      <td>West Queen Anne</td>\n",
              "      <td>Queen Anne</td>\n",
              "      <td>Seattle</td>\n",
              "      <td>WA</td>\n",
              "      <td>98119</td>\n",
              "      <td>Seattle</td>\n",
              "      <td>Seattle, WA</td>\n",
              "      <td>US</td>\n",
              "      <td>United States</td>\n",
              "      <td>47.636289</td>\n",
              "      <td>-122.371025</td>\n",
              "      <td>t</td>\n",
              "      <td>Apartment</td>\n",
              "      <td>Entire home/apt</td>\n",
              "      <td>...</td>\n",
              "      <td>1.0</td>\n",
              "      <td>1.0</td>\n",
              "      <td>1.0</td>\n",
              "      <td>Real Bed</td>\n",
              "      <td>{TV,\"Cable TV\",Internet,\"Wireless Internet\",\"A...</td>\n",
              "      <td>NaN</td>\n",
              "      <td>$85.00</td>\n",
              "      <td>NaN</td>\n",
              "      <td>NaN</td>\n",
              "      <td>NaN</td>\n",
              "      <td>NaN</td>\n",
              "      <td>2</td>\n",
              "      <td>$5.00</td>\n",
              "      <td>1</td>\n",
              "      <td>365</td>\n",
              "      <td>4 weeks ago</td>\n",
              "      <td>t</td>\n",
              "      <td>14</td>\n",
              "      <td>41</td>\n",
              "      <td>71</td>\n",
              "      <td>346</td>\n",
              "      <td>207</td>\n",
              "      <td>2011-11-01</td>\n",
              "      <td>2016-01-02</td>\n",
              "      <td>95.0</td>\n",
              "      <td>10.0</td>\n",
              "      <td>10.0</td>\n",
              "      <td>10.0</td>\n",
              "      <td>10.0</td>\n",
              "      <td>9.0</td>\n",
              "      <td>10.0</td>\n",
              "      <td>f</td>\n",
              "      <td>NaN</td>\n",
              "      <td>WASHINGTON</td>\n",
              "      <td>f</td>\n",
              "      <td>moderate</td>\n",
              "      <td>f</td>\n",
              "      <td>f</td>\n",
              "      <td>2</td>\n",
              "      <td>4.07</td>\n",
              "    </tr>\n",
              "    <tr>\n",
              "      <th>1</th>\n",
              "      <td>953595</td>\n",
              "      <td>Bright &amp; Airy Queen Anne Apartment</td>\n",
              "      <td>Chemically sensitive? We've removed the irrita...</td>\n",
              "      <td>Beautiful, hypoallergenic apartment in an extr...</td>\n",
              "      <td>Chemically sensitive? We've removed the irrita...</td>\n",
              "      <td>none</td>\n",
              "      <td>Queen Anne is a wonderful, truly functional vi...</td>\n",
              "      <td>What's up with the free pillows?  Our home was...</td>\n",
              "      <td>Convenient bus stops are just down the block, ...</td>\n",
              "      <td>5177328</td>\n",
              "      <td>Andrea</td>\n",
              "      <td>2013-02-21</td>\n",
              "      <td>Seattle, Washington, United States</td>\n",
              "      <td>Living east coast/left coast/overseas.  Time i...</td>\n",
              "      <td>within an hour</td>\n",
              "      <td>98%</td>\n",
              "      <td>100%</td>\n",
              "      <td>t</td>\n",
              "      <td>Queen Anne</td>\n",
              "      <td>6.0</td>\n",
              "      <td>6.0</td>\n",
              "      <td>['email', 'phone', 'facebook', 'linkedin', 're...</td>\n",
              "      <td>t</td>\n",
              "      <td>t</td>\n",
              "      <td>7th Avenue West, Seattle, WA 98119, United States</td>\n",
              "      <td>Queen Anne</td>\n",
              "      <td>West Queen Anne</td>\n",
              "      <td>Queen Anne</td>\n",
              "      <td>Seattle</td>\n",
              "      <td>WA</td>\n",
              "      <td>98119</td>\n",
              "      <td>Seattle</td>\n",
              "      <td>Seattle, WA</td>\n",
              "      <td>US</td>\n",
              "      <td>United States</td>\n",
              "      <td>47.639123</td>\n",
              "      <td>-122.365666</td>\n",
              "      <td>t</td>\n",
              "      <td>Apartment</td>\n",
              "      <td>Entire home/apt</td>\n",
              "      <td>...</td>\n",
              "      <td>1.0</td>\n",
              "      <td>1.0</td>\n",
              "      <td>1.0</td>\n",
              "      <td>Real Bed</td>\n",
              "      <td>{TV,Internet,\"Wireless Internet\",Kitchen,\"Free...</td>\n",
              "      <td>NaN</td>\n",
              "      <td>$150.00</td>\n",
              "      <td>$1,000.00</td>\n",
              "      <td>$3,000.00</td>\n",
              "      <td>$100.00</td>\n",
              "      <td>$40.00</td>\n",
              "      <td>1</td>\n",
              "      <td>$0.00</td>\n",
              "      <td>2</td>\n",
              "      <td>90</td>\n",
              "      <td>today</td>\n",
              "      <td>t</td>\n",
              "      <td>13</td>\n",
              "      <td>13</td>\n",
              "      <td>16</td>\n",
              "      <td>291</td>\n",
              "      <td>43</td>\n",
              "      <td>2013-08-19</td>\n",
              "      <td>2015-12-29</td>\n",
              "      <td>96.0</td>\n",
              "      <td>10.0</td>\n",
              "      <td>10.0</td>\n",
              "      <td>10.0</td>\n",
              "      <td>10.0</td>\n",
              "      <td>10.0</td>\n",
              "      <td>10.0</td>\n",
              "      <td>f</td>\n",
              "      <td>NaN</td>\n",
              "      <td>WASHINGTON</td>\n",
              "      <td>f</td>\n",
              "      <td>strict</td>\n",
              "      <td>t</td>\n",
              "      <td>t</td>\n",
              "      <td>6</td>\n",
              "      <td>1.48</td>\n",
              "    </tr>\n",
              "    <tr>\n",
              "      <th>2</th>\n",
              "      <td>3308979</td>\n",
              "      <td>New Modern House-Amazing water view</td>\n",
              "      <td>New modern house built in 2013.  Spectacular s...</td>\n",
              "      <td>Our house is modern, light and fresh with a wa...</td>\n",
              "      <td>New modern house built in 2013.  Spectacular s...</td>\n",
              "      <td>none</td>\n",
              "      <td>Upper Queen Anne is a charming neighborhood fu...</td>\n",
              "      <td>Our house is located just 5 short blocks to To...</td>\n",
              "      <td>A bus stop is just 2 blocks away.   Easy bus a...</td>\n",
              "      <td>16708587</td>\n",
              "      <td>Jill</td>\n",
              "      <td>2014-06-12</td>\n",
              "      <td>Seattle, Washington, United States</td>\n",
              "      <td>i love living in Seattle.  i grew up in the mi...</td>\n",
              "      <td>within a few hours</td>\n",
              "      <td>67%</td>\n",
              "      <td>100%</td>\n",
              "      <td>f</td>\n",
              "      <td>Queen Anne</td>\n",
              "      <td>2.0</td>\n",
              "      <td>2.0</td>\n",
              "      <td>['email', 'phone', 'google', 'reviews', 'jumio']</td>\n",
              "      <td>t</td>\n",
              "      <td>t</td>\n",
              "      <td>West Lee Street, Seattle, WA 98119, United States</td>\n",
              "      <td>Queen Anne</td>\n",
              "      <td>West Queen Anne</td>\n",
              "      <td>Queen Anne</td>\n",
              "      <td>Seattle</td>\n",
              "      <td>WA</td>\n",
              "      <td>98119</td>\n",
              "      <td>Seattle</td>\n",
              "      <td>Seattle, WA</td>\n",
              "      <td>US</td>\n",
              "      <td>United States</td>\n",
              "      <td>47.629724</td>\n",
              "      <td>-122.369483</td>\n",
              "      <td>t</td>\n",
              "      <td>House</td>\n",
              "      <td>Entire home/apt</td>\n",
              "      <td>...</td>\n",
              "      <td>4.5</td>\n",
              "      <td>5.0</td>\n",
              "      <td>7.0</td>\n",
              "      <td>Real Bed</td>\n",
              "      <td>{TV,\"Cable TV\",Internet,\"Wireless Internet\",\"A...</td>\n",
              "      <td>NaN</td>\n",
              "      <td>$975.00</td>\n",
              "      <td>NaN</td>\n",
              "      <td>NaN</td>\n",
              "      <td>$1,000.00</td>\n",
              "      <td>$300.00</td>\n",
              "      <td>10</td>\n",
              "      <td>$25.00</td>\n",
              "      <td>4</td>\n",
              "      <td>30</td>\n",
              "      <td>5 weeks ago</td>\n",
              "      <td>t</td>\n",
              "      <td>1</td>\n",
              "      <td>6</td>\n",
              "      <td>17</td>\n",
              "      <td>220</td>\n",
              "      <td>20</td>\n",
              "      <td>2014-07-30</td>\n",
              "      <td>2015-09-03</td>\n",
              "      <td>97.0</td>\n",
              "      <td>10.0</td>\n",
              "      <td>10.0</td>\n",
              "      <td>10.0</td>\n",
              "      <td>10.0</td>\n",
              "      <td>10.0</td>\n",
              "      <td>10.0</td>\n",
              "      <td>f</td>\n",
              "      <td>NaN</td>\n",
              "      <td>WASHINGTON</td>\n",
              "      <td>f</td>\n",
              "      <td>strict</td>\n",
              "      <td>f</td>\n",
              "      <td>f</td>\n",
              "      <td>2</td>\n",
              "      <td>1.15</td>\n",
              "    </tr>\n",
              "  </tbody>\n",
              "</table>\n",
              "<p>3 rows × 81 columns</p>\n",
              "</div>"
            ],
            "text/plain": [
              "        id  ... reviews_per_month\n",
              "0   241032  ...              4.07\n",
              "1   953595  ...              1.48\n",
              "2  3308979  ...              1.15\n",
              "\n",
              "[3 rows x 81 columns]"
            ]
          },
          "metadata": {
            "tags": []
          },
          "execution_count": 7
        }
      ]
    },
    {
      "cell_type": "code",
      "metadata": {
        "colab": {
          "base_uri": "https://localhost:8080/",
          "height": 80
        },
        "id": "JegYw3l8TIBM",
        "outputId": "12dbf24b-a2ee-4856-d656-871dda2ae2f1"
      },
      "source": [
        "# create a copy of dataframe after each cleaning action, thus we can retreive the dataframe if neccessary\n",
        "df_copy = listings.copy()\n",
        "\n",
        "# Create a data cleaning log\n",
        "data_clean_log = pd.DataFrame({\n",
        "                         'action':'Start', \n",
        "                         'nrow_after': listings.shape[0],\n",
        "                         'ncol_after': listings.shape[1]}, index = [0])\n",
        "data_clean_log"
      ],
      "execution_count": 16,
      "outputs": [
        {
          "output_type": "execute_result",
          "data": {
            "text/html": [
              "<div>\n",
              "<style scoped>\n",
              "    .dataframe tbody tr th:only-of-type {\n",
              "        vertical-align: middle;\n",
              "    }\n",
              "\n",
              "    .dataframe tbody tr th {\n",
              "        vertical-align: top;\n",
              "    }\n",
              "\n",
              "    .dataframe thead th {\n",
              "        text-align: right;\n",
              "    }\n",
              "</style>\n",
              "<table border=\"1\" class=\"dataframe\">\n",
              "  <thead>\n",
              "    <tr style=\"text-align: right;\">\n",
              "      <th></th>\n",
              "      <th>action</th>\n",
              "      <th>nrow_after</th>\n",
              "      <th>ncol_after</th>\n",
              "    </tr>\n",
              "  </thead>\n",
              "  <tbody>\n",
              "    <tr>\n",
              "      <th>0</th>\n",
              "      <td>Start</td>\n",
              "      <td>3818</td>\n",
              "      <td>92</td>\n",
              "    </tr>\n",
              "  </tbody>\n",
              "</table>\n",
              "</div>"
            ],
            "text/plain": [
              "  action  nrow_after  ncol_after\n",
              "0  Start        3818          92"
            ]
          },
          "metadata": {
            "tags": []
          },
          "execution_count": 16
        }
      ]
    },
    {
      "cell_type": "markdown",
      "metadata": {
        "id": "W207tsYNVrGQ"
      },
      "source": [
        "#### **1) Remove unrelated features**"
      ]
    },
    {
      "cell_type": "code",
      "metadata": {
        "colab": {
          "base_uri": "https://localhost:8080/"
        },
        "id": "R9SVg5l1U6Do",
        "outputId": "bbd2283d-62f8-4d1f-d83c-98fad95dd088"
      },
      "source": [
        "# Remove features containing url. They're created while scraping the data and are unrelated to the price.\n",
        "all_cols = listings.columns.to_list()\n",
        "drop_col = []\n",
        "for col in all_cols:\n",
        "  if 'url' in col:\n",
        "    drop_col.append(col)\n",
        "  else:\n",
        "    pass\n",
        "drop_col"
      ],
      "execution_count": 17,
      "outputs": [
        {
          "output_type": "execute_result",
          "data": {
            "text/plain": [
              "['listing_url',\n",
              " 'thumbnail_url',\n",
              " 'medium_url',\n",
              " 'picture_url',\n",
              " 'xl_picture_url',\n",
              " 'host_url',\n",
              " 'host_thumbnail_url',\n",
              " 'host_picture_url']"
            ]
          },
          "metadata": {
            "tags": []
          },
          "execution_count": 17
        }
      ]
    },
    {
      "cell_type": "code",
      "metadata": {
        "colab": {
          "base_uri": "https://localhost:8080/"
        },
        "id": "ooCs9OHkiTJY",
        "outputId": "7898b0d6-916b-40c5-df84-98c64451baa6"
      },
      "source": [
        "listings.drop(columns=drop_col,inplace=True)\n",
        "listings.shape"
      ],
      "execution_count": 18,
      "outputs": [
        {
          "output_type": "execute_result",
          "data": {
            "text/plain": [
              "(3818, 84)"
            ]
          },
          "metadata": {
            "tags": []
          },
          "execution_count": 18
        }
      ]
    },
    {
      "cell_type": "code",
      "metadata": {
        "colab": {
          "base_uri": "https://localhost:8080/"
        },
        "id": "6joVjO6-psC9",
        "outputId": "3aa0ddec-5968-4387-e895-2016cc390ca7"
      },
      "source": [
        "# Remove other useless features created while scraping.\n",
        "listings.drop(columns=['scrape_id','last_scraped','calendar_last_scraped'],inplace=True)\n",
        "listings.shape"
      ],
      "execution_count": 19,
      "outputs": [
        {
          "output_type": "execute_result",
          "data": {
            "text/plain": [
              "(3818, 81)"
            ]
          },
          "metadata": {
            "tags": []
          },
          "execution_count": 19
        }
      ]
    },
    {
      "cell_type": "code",
      "metadata": {
        "colab": {
          "base_uri": "https://localhost:8080/",
          "height": 110
        },
        "id": "hXzI1A6AXNUx",
        "outputId": "007789ef-480b-41d9-f180-703de35a59ce"
      },
      "source": [
        "df_copy = listings.copy()\n",
        "\n",
        "data_clean_log.at[1,['action','nrow_after','ncol_after']] = ['Remove unrelated features',\n",
        "                                                             listings.shape[0],\n",
        "                                                             listings.shape[1]]\n",
        "data_clean_log"
      ],
      "execution_count": 20,
      "outputs": [
        {
          "output_type": "execute_result",
          "data": {
            "text/html": [
              "<div>\n",
              "<style scoped>\n",
              "    .dataframe tbody tr th:only-of-type {\n",
              "        vertical-align: middle;\n",
              "    }\n",
              "\n",
              "    .dataframe tbody tr th {\n",
              "        vertical-align: top;\n",
              "    }\n",
              "\n",
              "    .dataframe thead th {\n",
              "        text-align: right;\n",
              "    }\n",
              "</style>\n",
              "<table border=\"1\" class=\"dataframe\">\n",
              "  <thead>\n",
              "    <tr style=\"text-align: right;\">\n",
              "      <th></th>\n",
              "      <th>action</th>\n",
              "      <th>nrow_after</th>\n",
              "      <th>ncol_after</th>\n",
              "    </tr>\n",
              "  </thead>\n",
              "  <tbody>\n",
              "    <tr>\n",
              "      <th>0</th>\n",
              "      <td>Start</td>\n",
              "      <td>3818.0</td>\n",
              "      <td>92.0</td>\n",
              "    </tr>\n",
              "    <tr>\n",
              "      <th>1</th>\n",
              "      <td>Remove unrelated features</td>\n",
              "      <td>3818.0</td>\n",
              "      <td>81.0</td>\n",
              "    </tr>\n",
              "  </tbody>\n",
              "</table>\n",
              "</div>"
            ],
            "text/plain": [
              "                      action  nrow_after  ncol_after\n",
              "0                      Start      3818.0        92.0\n",
              "1  Remove unrelated features      3818.0        81.0"
            ]
          },
          "metadata": {
            "tags": []
          },
          "execution_count": 20
        }
      ]
    },
    {
      "cell_type": "markdown",
      "metadata": {
        "id": "mTLQ_pL7rHjB"
      },
      "source": [
        "#### **2) Examine and remove features with more than 40% missing**"
      ]
    },
    {
      "cell_type": "code",
      "metadata": {
        "colab": {
          "base_uri": "https://localhost:8080/",
          "height": 0
        },
        "id": "JiAWm-JCZytb",
        "outputId": "191df30f-2dd3-4b8b-e7c5-fed223e2bb7e"
      },
      "source": [
        "null_ratio = listings.isnull().mean().sort_values(ascending=False)\n",
        "null_ratio.plot(kind ='hist');\n",
        "# More than 50 features don't have null value."
      ],
      "execution_count": 21,
      "outputs": [
        {
          "output_type": "display_data",
          "data": {
            "image/png": "[encoded data removed]",
            "text/plain": [
              "<Figure size 432x288 with 1 Axes>"
            ]
          },
          "metadata": {
            "tags": [],
            "needs_background": "light"
          }
        }
      ]
    },
    {
      "cell_type": "code",
      "metadata": {
        "colab": {
          "base_uri": "https://localhost:8080/"
        },
        "id": "RRXOVlmvytPW",
        "outputId": "28e2d6a4-a692-4198-a16a-1279fd7f5265"
      },
      "source": [
        "null_ratio[null_ratio>0.4]"
      ],
      "execution_count": 22,
      "outputs": [
        {
          "output_type": "execute_result",
          "data": {
            "text/plain": [
              "license             1.000000\n",
              "square_feet         0.974594\n",
              "monthly_price       0.602672\n",
              "security_deposit    0.511262\n",
              "weekly_price        0.473808\n",
              "notes               0.420639\n",
              "dtype: float64"
            ]
          },
          "metadata": {
            "tags": []
          },
          "execution_count": 22
        }
      ]
    },
    {
      "cell_type": "code",
      "metadata": {
        "colab": {
          "base_uri": "https://localhost:8080/"
        },
        "id": "CRsVY2eR030R",
        "outputId": "f0f0ec79-f7cf-416f-8f1b-0922052fee69"
      },
      "source": [
        "listings.notes.head()\n",
        "# Words info, hard to process, with too many NAN. \n",
        "# Remove notes"
      ],
      "execution_count": 23,
      "outputs": [
        {
          "output_type": "execute_result",
          "data": {
            "text/plain": [
              "0                                                  NaN\n",
              "1    What's up with the free pillows?  Our home was...\n",
              "2    Our house is located just 5 short blocks to To...\n",
              "3                                                  NaN\n",
              "4                                            Belltown \n",
              "Name: notes, dtype: object"
            ]
          },
          "metadata": {
            "tags": []
          },
          "execution_count": 23
        }
      ]
    },
    {
      "cell_type": "code",
      "metadata": {
        "id": "_CTvujFiz1AT"
      },
      "source": [
        "# Drop notes\n",
        "listings.drop(columns=['notes'], inplace=True)\n",
        "\n",
        "# Drop the license column, since it contains only NAN.\n",
        "# Drop the square_feet column, since it contains too many NAN value.\n",
        "listings.drop(columns=['license','square_feet'], inplace=True)\n",
        "\n",
        "# Monthly_price is price with Length-of-stay discounts, so is weekly_price. So these two factors are affected by price not the factors affecting the price. \n",
        "# Thus, we can remove them.\n",
        "listings.drop(columns=['monthly_price','weekly_price'], inplace=True)\n",
        "\n",
        "# Airbnb calculates the security deposit amount according to 60% of a listing’s nightly rate (this amount adjusts for longer stays). \n",
        "# A factor affected by the nightly rate. So we remove it.\n",
        "listings.drop(columns=['security_deposit'], inplace=True)"
      ],
      "execution_count": 24,
      "outputs": []
    },
    {
      "cell_type": "code",
      "metadata": {
        "colab": {
          "base_uri": "https://localhost:8080/",
          "height": 0
        },
        "id": "t3cAgjpx3SnV",
        "outputId": "c3f6d007-d0e2-4bde-af13-41ae3810179b"
      },
      "source": [
        "df_copy = listings.copy()\n",
        "\n",
        "data_clean_log.at[2,['action','nrow_after','ncol_after']] = ['Drop features with more than 40% of NAN',\n",
        "                                                             listings.shape[0],\n",
        "                                                             listings.shape[1]]\n",
        "data_clean_log"
      ],
      "execution_count": 25,
      "outputs": [
        {
          "output_type": "execute_result",
          "data": {
            "text/html": [
              "<div>\n",
              "<style scoped>\n",
              "    .dataframe tbody tr th:only-of-type {\n",
              "        vertical-align: middle;\n",
              "    }\n",
              "\n",
              "    .dataframe tbody tr th {\n",
              "        vertical-align: top;\n",
              "    }\n",
              "\n",
              "    .dataframe thead th {\n",
              "        text-align: right;\n",
              "    }\n",
              "</style>\n",
              "<table border=\"1\" class=\"dataframe\">\n",
              "  <thead>\n",
              "    <tr style=\"text-align: right;\">\n",
              "      <th></th>\n",
              "      <th>action</th>\n",
              "      <th>nrow_after</th>\n",
              "      <th>ncol_after</th>\n",
              "    </tr>\n",
              "  </thead>\n",
              "  <tbody>\n",
              "    <tr>\n",
              "      <th>0</th>\n",
              "      <td>Start</td>\n",
              "      <td>3818.0</td>\n",
              "      <td>92.0</td>\n",
              "    </tr>\n",
              "    <tr>\n",
              "      <th>1</th>\n",
              "      <td>Remove unrelated features</td>\n",
              "      <td>3818.0</td>\n",
              "      <td>81.0</td>\n",
              "    </tr>\n",
              "    <tr>\n",
              "      <th>2</th>\n",
              "      <td>Drop features with more than 40% of NAN</td>\n",
              "      <td>3818.0</td>\n",
              "      <td>75.0</td>\n",
              "    </tr>\n",
              "  </tbody>\n",
              "</table>\n",
              "</div>"
            ],
            "text/plain": [
              "                                    action  nrow_after  ncol_after\n",
              "0                                    Start      3818.0        92.0\n",
              "1                Remove unrelated features      3818.0        81.0\n",
              "2  Drop features with more than 40% of NAN      3818.0        75.0"
            ]
          },
          "metadata": {
            "tags": []
          },
          "execution_count": 25
        }
      ]
    },
    {
      "cell_type": "markdown",
      "metadata": {
        "id": "pKaHK7nZHFeh"
      },
      "source": [
        "#### **3) Drop features with low variability**"
      ]
    },
    {
      "cell_type": "code",
      "metadata": {
        "colab": {
          "base_uri": "https://localhost:8080/"
        },
        "id": "s-FpYCak5--z",
        "outputId": "f4258b1f-0e9f-4a9f-aa1c-1dd66d313621"
      },
      "source": [
        "#indentifies features with no variance, which are none informative to analysis.\n",
        "no_variance = []\n",
        "for col in listings.columns:\n",
        "    freq = listings[col].value_counts().index.unique()\n",
        "    if len(freq)==1:\n",
        "        print([col, freq])\n",
        "        no_variance.append(col)"
      ],
      "execution_count": 26,
      "outputs": [
        {
          "output_type": "stream",
          "text": [
            "['experiences_offered', Index(['none'], dtype='object')]\n",
            "['market', Index(['Seattle'], dtype='object')]\n",
            "['country_code', Index(['US'], dtype='object')]\n",
            "['country', Index(['United States'], dtype='object')]\n",
            "['has_availability', Index(['t'], dtype='object')]\n",
            "['requires_license', Index(['f'], dtype='object')]\n",
            "['jurisdiction_names', Index(['WASHINGTON'], dtype='object')]\n"
          ],
          "name": "stdout"
        }
      ]
    },
    {
      "cell_type": "code",
      "metadata": {
        "id": "gJ8LzvfX6oA-"
      },
      "source": [
        "listings.drop(labels = no_variance, axis = 1,inplace=True)"
      ],
      "execution_count": 27,
      "outputs": []
    },
    {
      "cell_type": "code",
      "metadata": {
        "colab": {
          "base_uri": "https://localhost:8080/"
        },
        "id": "ZlDYTgOc9CQt",
        "outputId": "76842320-ffb3-4a5a-d0ff-da871504bf5a"
      },
      "source": [
        "low_variance = []\n",
        "for col in listings.columns:\n",
        "    freq = listings[col].value_counts().index.unique()\n",
        "    if len(freq)==2:\n",
        "        print([col, freq])\n",
        "        low_variance.append(col)"
      ],
      "execution_count": 28,
      "outputs": [
        {
          "output_type": "stream",
          "text": [
            "['host_acceptance_rate', Index(['100%', '0%'], dtype='object')]\n",
            "['host_is_superhost', Index(['f', 't'], dtype='object')]\n",
            "['host_has_profile_pic', Index(['t', 'f'], dtype='object')]\n",
            "['host_identity_verified', Index(['t', 'f'], dtype='object')]\n",
            "['state', Index(['WA', 'wa'], dtype='object')]\n",
            "['is_location_exact', Index(['t', 'f'], dtype='object')]\n",
            "['instant_bookable', Index(['f', 't'], dtype='object')]\n",
            "['require_guest_profile_picture', Index(['f', 't'], dtype='object')]\n",
            "['require_guest_phone_verification', Index(['f', 't'], dtype='object')]\n"
          ],
          "name": "stdout"
        }
      ]
    },
    {
      "cell_type": "code",
      "metadata": {
        "colab": {
          "base_uri": "https://localhost:8080/"
        },
        "id": "pHZHZ5mQ8ymM",
        "outputId": "50b39592-24b3-49e7-b09f-474325ed4731"
      },
      "source": [
        "for col in low_variance:\n",
        "  print(listings[col].value_counts())"
      ],
      "execution_count": 29,
      "outputs": [
        {
          "output_type": "stream",
          "text": [
            "100%    3044\n",
            "0%         1\n",
            "Name: host_acceptance_rate, dtype: int64\n",
            "f    3038\n",
            "t     778\n",
            "Name: host_is_superhost, dtype: int64\n",
            "t    3809\n",
            "f       7\n",
            "Name: host_has_profile_pic, dtype: int64\n",
            "t    2997\n",
            "f     819\n",
            "Name: host_identity_verified, dtype: int64\n",
            "WA    3817\n",
            "wa       1\n",
            "Name: state, dtype: int64\n",
            "t    3412\n",
            "f     406\n",
            "Name: is_location_exact, dtype: int64\n",
            "f    3227\n",
            "t     591\n",
            "Name: instant_bookable, dtype: int64\n",
            "f    3497\n",
            "t     321\n",
            "Name: require_guest_profile_picture, dtype: int64\n",
            "f    3443\n",
            "t     375\n",
            "Name: require_guest_phone_verification, dtype: int64\n"
          ],
          "name": "stdout"
        }
      ]
    },
    {
      "cell_type": "code",
      "metadata": {
        "id": "MO3s_lb09LTd"
      },
      "source": [
        "# host_acceptance_rate, host_has_profile_pic and state have low variability\n",
        "# we can remove them\n",
        "listings.drop(columns = ['host_acceptance_rate','host_has_profile_pic','state'],inplace=True)"
      ],
      "execution_count": 30,
      "outputs": []
    },
    {
      "cell_type": "code",
      "metadata": {
        "colab": {
          "base_uri": "https://localhost:8080/",
          "height": 0
        },
        "id": "rWoQisSS6vOB",
        "outputId": "85aa4cb6-639d-44f9-e6c5-b58f3448e36e"
      },
      "source": [
        "df_copy = listings\n",
        "\n",
        "# Update the data clean log\n",
        "\n",
        "data_clean_log.at[3,['action','nrow_after','ncol_after']] = ['Drop features with low variability',\n",
        "                                                             listings.shape[0],\n",
        "                                                             listings.shape[1]]\n",
        "data_clean_log"
      ],
      "execution_count": 31,
      "outputs": [
        {
          "output_type": "execute_result",
          "data": {
            "text/html": [
              "<div>\n",
              "<style scoped>\n",
              "    .dataframe tbody tr th:only-of-type {\n",
              "        vertical-align: middle;\n",
              "    }\n",
              "\n",
              "    .dataframe tbody tr th {\n",
              "        vertical-align: top;\n",
              "    }\n",
              "\n",
              "    .dataframe thead th {\n",
              "        text-align: right;\n",
              "    }\n",
              "</style>\n",
              "<table border=\"1\" class=\"dataframe\">\n",
              "  <thead>\n",
              "    <tr style=\"text-align: right;\">\n",
              "      <th></th>\n",
              "      <th>action</th>\n",
              "      <th>nrow_after</th>\n",
              "      <th>ncol_after</th>\n",
              "    </tr>\n",
              "  </thead>\n",
              "  <tbody>\n",
              "    <tr>\n",
              "      <th>0</th>\n",
              "      <td>Start</td>\n",
              "      <td>3818.0</td>\n",
              "      <td>92.0</td>\n",
              "    </tr>\n",
              "    <tr>\n",
              "      <th>1</th>\n",
              "      <td>Remove unrelated features</td>\n",
              "      <td>3818.0</td>\n",
              "      <td>81.0</td>\n",
              "    </tr>\n",
              "    <tr>\n",
              "      <th>2</th>\n",
              "      <td>Drop features with more than 40% of NAN</td>\n",
              "      <td>3818.0</td>\n",
              "      <td>75.0</td>\n",
              "    </tr>\n",
              "    <tr>\n",
              "      <th>3</th>\n",
              "      <td>Drop features with low variability</td>\n",
              "      <td>3818.0</td>\n",
              "      <td>65.0</td>\n",
              "    </tr>\n",
              "  </tbody>\n",
              "</table>\n",
              "</div>"
            ],
            "text/plain": [
              "                                    action  nrow_after  ncol_after\n",
              "0                                    Start      3818.0        92.0\n",
              "1                Remove unrelated features      3818.0        81.0\n",
              "2  Drop features with more than 40% of NAN      3818.0        75.0\n",
              "3       Drop features with low variability      3818.0        65.0"
            ]
          },
          "metadata": {
            "tags": []
          },
          "execution_count": 31
        }
      ]
    },
    {
      "cell_type": "markdown",
      "metadata": {
        "id": "02Ompb5f9OmR"
      },
      "source": [
        "#### **4) Drop text features that are hard to use in quantitative models**"
      ]
    },
    {
      "cell_type": "code",
      "metadata": {
        "colab": {
          "base_uri": "https://localhost:8080/"
        },
        "id": "6-LUxNA9AGjY",
        "outputId": "2350fe83-d813-48ba-a6e4-c323537d9e2e"
      },
      "source": [
        "listings.city.value_counts() # Not useful"
      ],
      "execution_count": 32,
      "outputs": [
        {
          "output_type": "execute_result",
          "data": {
            "text/plain": [
              "Seattle                  3810\n",
              "Seattle                     2\n",
              "West Seattle                2\n",
              "西雅图                         1\n",
              "Phinney Ridge Seattle       1\n",
              "Ballard, Seattle            1\n",
              "seattle                     1\n",
              "Name: city, dtype: int64"
            ]
          },
          "metadata": {
            "tags": []
          },
          "execution_count": 32
        }
      ]
    },
    {
      "cell_type": "code",
      "metadata": {
        "colab": {
          "base_uri": "https://localhost:8080/"
        },
        "id": "LdRGCdIdAuhx",
        "outputId": "2a23ea5a-5744-4ca9-b30e-d9fb1035adf5"
      },
      "source": [
        "listings.smart_location.value_counts() # Not useful"
      ],
      "execution_count": 33,
      "outputs": [
        {
          "output_type": "execute_result",
          "data": {
            "text/plain": [
              "Seattle, WA                  3810\n",
              "Seattle , WA                    2\n",
              "West Seattle, WA                2\n",
              "seattle, wa                     1\n",
              "西雅图, WA                         1\n",
              "Phinney Ridge Seattle, WA       1\n",
              "Ballard, Seattle, WA            1\n",
              "Name: smart_location, dtype: int64"
            ]
          },
          "metadata": {
            "tags": []
          },
          "execution_count": 33
        }
      ]
    },
    {
      "cell_type": "code",
      "metadata": {
        "colab": {
          "base_uri": "https://localhost:8080/"
        },
        "id": "hOqzHO2fBFNp",
        "outputId": "4dde4700-20cc-430f-f6c8-c5735605d8bd"
      },
      "source": [
        "listings.bed_type.value_counts() # Seems useful"
      ],
      "execution_count": 34,
      "outputs": [
        {
          "output_type": "execute_result",
          "data": {
            "text/plain": [
              "Real Bed         3657\n",
              "Futon              74\n",
              "Pull-out Sofa      47\n",
              "Airbed             27\n",
              "Couch              13\n",
              "Name: bed_type, dtype: int64"
            ]
          },
          "metadata": {
            "tags": []
          },
          "execution_count": 34
        }
      ]
    },
    {
      "cell_type": "code",
      "metadata": {
        "id": "6MTKnNu1-T5z"
      },
      "source": [
        "text_cols = ['name','summary','space','description','neighborhood_overview','transit','host_name','host_location','host_about','host_verifications','street','city','zipcode',\n",
        "             'smart_location']"
      ],
      "execution_count": 35,
      "outputs": []
    },
    {
      "cell_type": "code",
      "metadata": {
        "id": "Rk7zgXfj7R-J"
      },
      "source": [
        "listings.drop(columns=text_cols,inplace=True)"
      ],
      "execution_count": 36,
      "outputs": []
    },
    {
      "cell_type": "code",
      "metadata": {
        "colab": {
          "base_uri": "https://localhost:8080/",
          "height": 0
        },
        "id": "_jelpxdAAFJp",
        "outputId": "a1bd40e1-4bde-418d-9ebd-0b22b7d0bbfa"
      },
      "source": [
        "df_copy = listings.copy()\n",
        "\n",
        "# Update the data clean log\n",
        "data_clean_log.at[4,['action','nrow_after','ncol_after']] = ['Drop text features',\n",
        "                                                             listings.shape[0],\n",
        "                                                             listings.shape[1]]\n",
        "data_clean_log"
      ],
      "execution_count": 37,
      "outputs": [
        {
          "output_type": "execute_result",
          "data": {
            "text/html": [
              "<div>\n",
              "<style scoped>\n",
              "    .dataframe tbody tr th:only-of-type {\n",
              "        vertical-align: middle;\n",
              "    }\n",
              "\n",
              "    .dataframe tbody tr th {\n",
              "        vertical-align: top;\n",
              "    }\n",
              "\n",
              "    .dataframe thead th {\n",
              "        text-align: right;\n",
              "    }\n",
              "</style>\n",
              "<table border=\"1\" class=\"dataframe\">\n",
              "  <thead>\n",
              "    <tr style=\"text-align: right;\">\n",
              "      <th></th>\n",
              "      <th>action</th>\n",
              "      <th>nrow_after</th>\n",
              "      <th>ncol_after</th>\n",
              "    </tr>\n",
              "  </thead>\n",
              "  <tbody>\n",
              "    <tr>\n",
              "      <th>0</th>\n",
              "      <td>Start</td>\n",
              "      <td>3818.0</td>\n",
              "      <td>92.0</td>\n",
              "    </tr>\n",
              "    <tr>\n",
              "      <th>1</th>\n",
              "      <td>Remove unrelated features</td>\n",
              "      <td>3818.0</td>\n",
              "      <td>81.0</td>\n",
              "    </tr>\n",
              "    <tr>\n",
              "      <th>2</th>\n",
              "      <td>Drop features with more than 40% of NAN</td>\n",
              "      <td>3818.0</td>\n",
              "      <td>75.0</td>\n",
              "    </tr>\n",
              "    <tr>\n",
              "      <th>3</th>\n",
              "      <td>Drop features with low variability</td>\n",
              "      <td>3818.0</td>\n",
              "      <td>65.0</td>\n",
              "    </tr>\n",
              "    <tr>\n",
              "      <th>4</th>\n",
              "      <td>Drop text features</td>\n",
              "      <td>3818.0</td>\n",
              "      <td>51.0</td>\n",
              "    </tr>\n",
              "  </tbody>\n",
              "</table>\n",
              "</div>"
            ],
            "text/plain": [
              "                                    action  nrow_after  ncol_after\n",
              "0                                    Start      3818.0        92.0\n",
              "1                Remove unrelated features      3818.0        81.0\n",
              "2  Drop features with more than 40% of NAN      3818.0        75.0\n",
              "3       Drop features with low variability      3818.0        65.0\n",
              "4                       Drop text features      3818.0        51.0"
            ]
          },
          "metadata": {
            "tags": []
          },
          "execution_count": 37
        }
      ]
    },
    {
      "cell_type": "markdown",
      "metadata": {
        "id": "EayJ1L-yGFXW"
      },
      "source": [
        "#### **5) Recode object type variables to numerical** "
      ]
    },
    {
      "cell_type": "code",
      "metadata": {
        "id": "9Man_2biGEb8",
        "colab": {
          "base_uri": "https://localhost:8080/",
          "height": 0
        },
        "outputId": "2932152c-6122-4c76-81a8-c1f2214ab980"
      },
      "source": [
        "obj = listings.select_dtypes(include=['object'])\n",
        "obj.head(2)"
      ],
      "execution_count": 38,
      "outputs": [
        {
          "output_type": "execute_result",
          "data": {
            "text/html": [
              "<div>\n",
              "<style scoped>\n",
              "    .dataframe tbody tr th:only-of-type {\n",
              "        vertical-align: middle;\n",
              "    }\n",
              "\n",
              "    .dataframe tbody tr th {\n",
              "        vertical-align: top;\n",
              "    }\n",
              "\n",
              "    .dataframe thead th {\n",
              "        text-align: right;\n",
              "    }\n",
              "</style>\n",
              "<table border=\"1\" class=\"dataframe\">\n",
              "  <thead>\n",
              "    <tr style=\"text-align: right;\">\n",
              "      <th></th>\n",
              "      <th>host_since</th>\n",
              "      <th>host_response_time</th>\n",
              "      <th>host_response_rate</th>\n",
              "      <th>host_is_superhost</th>\n",
              "      <th>host_neighbourhood</th>\n",
              "      <th>host_identity_verified</th>\n",
              "      <th>neighbourhood</th>\n",
              "      <th>neighbourhood_cleansed</th>\n",
              "      <th>neighbourhood_group_cleansed</th>\n",
              "      <th>is_location_exact</th>\n",
              "      <th>property_type</th>\n",
              "      <th>room_type</th>\n",
              "      <th>bed_type</th>\n",
              "      <th>amenities</th>\n",
              "      <th>price</th>\n",
              "      <th>cleaning_fee</th>\n",
              "      <th>extra_people</th>\n",
              "      <th>calendar_updated</th>\n",
              "      <th>first_review</th>\n",
              "      <th>last_review</th>\n",
              "      <th>instant_bookable</th>\n",
              "      <th>cancellation_policy</th>\n",
              "      <th>require_guest_profile_picture</th>\n",
              "      <th>require_guest_phone_verification</th>\n",
              "    </tr>\n",
              "  </thead>\n",
              "  <tbody>\n",
              "    <tr>\n",
              "      <th>0</th>\n",
              "      <td>2011-08-11</td>\n",
              "      <td>within a few hours</td>\n",
              "      <td>96%</td>\n",
              "      <td>f</td>\n",
              "      <td>Queen Anne</td>\n",
              "      <td>t</td>\n",
              "      <td>Queen Anne</td>\n",
              "      <td>West Queen Anne</td>\n",
              "      <td>Queen Anne</td>\n",
              "      <td>t</td>\n",
              "      <td>Apartment</td>\n",
              "      <td>Entire home/apt</td>\n",
              "      <td>Real Bed</td>\n",
              "      <td>{TV,\"Cable TV\",Internet,\"Wireless Internet\",\"A...</td>\n",
              "      <td>$85.00</td>\n",
              "      <td>NaN</td>\n",
              "      <td>$5.00</td>\n",
              "      <td>4 weeks ago</td>\n",
              "      <td>2011-11-01</td>\n",
              "      <td>2016-01-02</td>\n",
              "      <td>f</td>\n",
              "      <td>moderate</td>\n",
              "      <td>f</td>\n",
              "      <td>f</td>\n",
              "    </tr>\n",
              "    <tr>\n",
              "      <th>1</th>\n",
              "      <td>2013-02-21</td>\n",
              "      <td>within an hour</td>\n",
              "      <td>98%</td>\n",
              "      <td>t</td>\n",
              "      <td>Queen Anne</td>\n",
              "      <td>t</td>\n",
              "      <td>Queen Anne</td>\n",
              "      <td>West Queen Anne</td>\n",
              "      <td>Queen Anne</td>\n",
              "      <td>t</td>\n",
              "      <td>Apartment</td>\n",
              "      <td>Entire home/apt</td>\n",
              "      <td>Real Bed</td>\n",
              "      <td>{TV,Internet,\"Wireless Internet\",Kitchen,\"Free...</td>\n",
              "      <td>$150.00</td>\n",
              "      <td>$40.00</td>\n",
              "      <td>$0.00</td>\n",
              "      <td>today</td>\n",
              "      <td>2013-08-19</td>\n",
              "      <td>2015-12-29</td>\n",
              "      <td>f</td>\n",
              "      <td>strict</td>\n",
              "      <td>t</td>\n",
              "      <td>t</td>\n",
              "    </tr>\n",
              "  </tbody>\n",
              "</table>\n",
              "</div>"
            ],
            "text/plain": [
              "   host_since  ... require_guest_phone_verification\n",
              "0  2011-08-11  ...                                f\n",
              "1  2013-02-21  ...                                t\n",
              "\n",
              "[2 rows x 24 columns]"
            ]
          },
          "metadata": {
            "tags": []
          },
          "execution_count": 38
        }
      ]
    },
    {
      "cell_type": "markdown",
      "metadata": {
        "id": "K25Rg5tGJlsU"
      },
      "source": [
        "\n",
        "\n",
        "a) Fill the NA in price features, strip out the $ sign before the price and then convert them to float numbers\n",
        "\n"
      ]
    },
    {
      "cell_type": "code",
      "metadata": {
        "colab": {
          "base_uri": "https://localhost:8080/"
        },
        "id": "gePVkeRVGEl4",
        "outputId": "963f58d5-ef7f-440a-fd26-6518b171e85f"
      },
      "source": [
        "# It is reasonable to fill NA in cleaning_fee and extra_people with $0\n",
        "\n",
        "price_feature = ['price','cleaning_fee', 'extra_people']\n",
        "listings[['cleaning_fee', 'extra_people']] = listings[['cleaning_fee', 'extra_people']].fillna('$0')\n",
        "listings[price_feature].isnull().sum()"
      ],
      "execution_count": 39,
      "outputs": [
        {
          "output_type": "execute_result",
          "data": {
            "text/plain": [
              "price           0\n",
              "cleaning_fee    0\n",
              "extra_people    0\n",
              "dtype: int64"
            ]
          },
          "metadata": {
            "tags": []
          },
          "execution_count": 39
        }
      ]
    },
    {
      "cell_type": "code",
      "metadata": {
        "id": "CePfQKP6GEt5"
      },
      "source": [
        "for i in price_feature:\n",
        "    listings[i] = listings[i].apply(lambda x: float(x.strip('$').replace(',','')))"
      ],
      "execution_count": 40,
      "outputs": []
    },
    {
      "cell_type": "code",
      "metadata": {
        "colab": {
          "base_uri": "https://localhost:8080/",
          "height": 0
        },
        "id": "riXUvLLsJUqB",
        "outputId": "833d794f-9603-40dc-d44f-1957661e361f"
      },
      "source": [
        "listings[price_feature].describe()"
      ],
      "execution_count": 41,
      "outputs": [
        {
          "output_type": "execute_result",
          "data": {
            "text/html": [
              "<div>\n",
              "<style scoped>\n",
              "    .dataframe tbody tr th:only-of-type {\n",
              "        vertical-align: middle;\n",
              "    }\n",
              "\n",
              "    .dataframe tbody tr th {\n",
              "        vertical-align: top;\n",
              "    }\n",
              "\n",
              "    .dataframe thead th {\n",
              "        text-align: right;\n",
              "    }\n",
              "</style>\n",
              "<table border=\"1\" class=\"dataframe\">\n",
              "  <thead>\n",
              "    <tr style=\"text-align: right;\">\n",
              "      <th></th>\n",
              "      <th>price</th>\n",
              "      <th>cleaning_fee</th>\n",
              "      <th>extra_people</th>\n",
              "    </tr>\n",
              "  </thead>\n",
              "  <tbody>\n",
              "    <tr>\n",
              "      <th>count</th>\n",
              "      <td>3818.000000</td>\n",
              "      <td>3818.000000</td>\n",
              "      <td>3818.000000</td>\n",
              "    </tr>\n",
              "    <tr>\n",
              "      <th>mean</th>\n",
              "      <td>127.976166</td>\n",
              "      <td>45.062860</td>\n",
              "      <td>10.667627</td>\n",
              "    </tr>\n",
              "    <tr>\n",
              "      <th>std</th>\n",
              "      <td>90.250022</td>\n",
              "      <td>49.913798</td>\n",
              "      <td>17.585922</td>\n",
              "    </tr>\n",
              "    <tr>\n",
              "      <th>min</th>\n",
              "      <td>20.000000</td>\n",
              "      <td>0.000000</td>\n",
              "      <td>0.000000</td>\n",
              "    </tr>\n",
              "    <tr>\n",
              "      <th>25%</th>\n",
              "      <td>75.000000</td>\n",
              "      <td>0.000000</td>\n",
              "      <td>0.000000</td>\n",
              "    </tr>\n",
              "    <tr>\n",
              "      <th>50%</th>\n",
              "      <td>100.000000</td>\n",
              "      <td>30.000000</td>\n",
              "      <td>0.000000</td>\n",
              "    </tr>\n",
              "    <tr>\n",
              "      <th>75%</th>\n",
              "      <td>150.000000</td>\n",
              "      <td>65.000000</td>\n",
              "      <td>20.000000</td>\n",
              "    </tr>\n",
              "    <tr>\n",
              "      <th>max</th>\n",
              "      <td>1000.000000</td>\n",
              "      <td>300.000000</td>\n",
              "      <td>300.000000</td>\n",
              "    </tr>\n",
              "  </tbody>\n",
              "</table>\n",
              "</div>"
            ],
            "text/plain": [
              "             price  cleaning_fee  extra_people\n",
              "count  3818.000000   3818.000000   3818.000000\n",
              "mean    127.976166     45.062860     10.667627\n",
              "std      90.250022     49.913798     17.585922\n",
              "min      20.000000      0.000000      0.000000\n",
              "25%      75.000000      0.000000      0.000000\n",
              "50%     100.000000     30.000000      0.000000\n",
              "75%     150.000000     65.000000     20.000000\n",
              "max    1000.000000    300.000000    300.000000"
            ]
          },
          "metadata": {
            "tags": []
          },
          "execution_count": 41
        }
      ]
    },
    {
      "cell_type": "code",
      "metadata": {
        "colab": {
          "base_uri": "https://localhost:8080/",
          "height": 0
        },
        "id": "uN79iZN3SUZW",
        "outputId": "669faaea-b072-4145-b3e1-05abfd20dfd2"
      },
      "source": [
        "listings[price_feature].corr()\n",
        "# cleaning fee is postive correlated to price. "
      ],
      "execution_count": 42,
      "outputs": [
        {
          "output_type": "execute_result",
          "data": {
            "text/html": [
              "<div>\n",
              "<style scoped>\n",
              "    .dataframe tbody tr th:only-of-type {\n",
              "        vertical-align: middle;\n",
              "    }\n",
              "\n",
              "    .dataframe tbody tr th {\n",
              "        vertical-align: top;\n",
              "    }\n",
              "\n",
              "    .dataframe thead th {\n",
              "        text-align: right;\n",
              "    }\n",
              "</style>\n",
              "<table border=\"1\" class=\"dataframe\">\n",
              "  <thead>\n",
              "    <tr style=\"text-align: right;\">\n",
              "      <th></th>\n",
              "      <th>price</th>\n",
              "      <th>cleaning_fee</th>\n",
              "      <th>extra_people</th>\n",
              "    </tr>\n",
              "  </thead>\n",
              "  <tbody>\n",
              "    <tr>\n",
              "      <th>price</th>\n",
              "      <td>1.000000</td>\n",
              "      <td>0.576423</td>\n",
              "      <td>0.127961</td>\n",
              "    </tr>\n",
              "    <tr>\n",
              "      <th>cleaning_fee</th>\n",
              "      <td>0.576423</td>\n",
              "      <td>1.000000</td>\n",
              "      <td>0.153143</td>\n",
              "    </tr>\n",
              "    <tr>\n",
              "      <th>extra_people</th>\n",
              "      <td>0.127961</td>\n",
              "      <td>0.153143</td>\n",
              "      <td>1.000000</td>\n",
              "    </tr>\n",
              "  </tbody>\n",
              "</table>\n",
              "</div>"
            ],
            "text/plain": [
              "                 price  cleaning_fee  extra_people\n",
              "price         1.000000      0.576423      0.127961\n",
              "cleaning_fee  0.576423      1.000000      0.153143\n",
              "extra_people  0.127961      0.153143      1.000000"
            ]
          },
          "metadata": {
            "tags": []
          },
          "execution_count": 42
        }
      ]
    },
    {
      "cell_type": "code",
      "metadata": {
        "colab": {
          "base_uri": "https://localhost:8080/",
          "height": 0
        },
        "id": "FjQUSTMLwHet",
        "outputId": "ed39305a-bc79-4180-a51d-a4ae23957630"
      },
      "source": [
        "df_copy = listings.copy()\n",
        "\n",
        "# Update the data clean log\n",
        "data_clean_log.at[5,['action','nrow_after','ncol_after']] = ['Recode Price features',\n",
        "                                                             listings.shape[0],\n",
        "                                                             listings.shape[1]]\n",
        "data_clean_log"
      ],
      "execution_count": 43,
      "outputs": [
        {
          "output_type": "execute_result",
          "data": {
            "text/html": [
              "<div>\n",
              "<style scoped>\n",
              "    .dataframe tbody tr th:only-of-type {\n",
              "        vertical-align: middle;\n",
              "    }\n",
              "\n",
              "    .dataframe tbody tr th {\n",
              "        vertical-align: top;\n",
              "    }\n",
              "\n",
              "    .dataframe thead th {\n",
              "        text-align: right;\n",
              "    }\n",
              "</style>\n",
              "<table border=\"1\" class=\"dataframe\">\n",
              "  <thead>\n",
              "    <tr style=\"text-align: right;\">\n",
              "      <th></th>\n",
              "      <th>action</th>\n",
              "      <th>nrow_after</th>\n",
              "      <th>ncol_after</th>\n",
              "    </tr>\n",
              "  </thead>\n",
              "  <tbody>\n",
              "    <tr>\n",
              "      <th>0</th>\n",
              "      <td>Start</td>\n",
              "      <td>3818.0</td>\n",
              "      <td>92.0</td>\n",
              "    </tr>\n",
              "    <tr>\n",
              "      <th>1</th>\n",
              "      <td>Remove unrelated features</td>\n",
              "      <td>3818.0</td>\n",
              "      <td>81.0</td>\n",
              "    </tr>\n",
              "    <tr>\n",
              "      <th>2</th>\n",
              "      <td>Drop features with more than 40% of NAN</td>\n",
              "      <td>3818.0</td>\n",
              "      <td>75.0</td>\n",
              "    </tr>\n",
              "    <tr>\n",
              "      <th>3</th>\n",
              "      <td>Drop features with low variability</td>\n",
              "      <td>3818.0</td>\n",
              "      <td>65.0</td>\n",
              "    </tr>\n",
              "    <tr>\n",
              "      <th>4</th>\n",
              "      <td>Drop text features</td>\n",
              "      <td>3818.0</td>\n",
              "      <td>51.0</td>\n",
              "    </tr>\n",
              "    <tr>\n",
              "      <th>5</th>\n",
              "      <td>Recode Price features</td>\n",
              "      <td>3818.0</td>\n",
              "      <td>51.0</td>\n",
              "    </tr>\n",
              "  </tbody>\n",
              "</table>\n",
              "</div>"
            ],
            "text/plain": [
              "                                    action  nrow_after  ncol_after\n",
              "0                                    Start      3818.0        92.0\n",
              "1                Remove unrelated features      3818.0        81.0\n",
              "2  Drop features with more than 40% of NAN      3818.0        75.0\n",
              "3       Drop features with low variability      3818.0        65.0\n",
              "4                       Drop text features      3818.0        51.0\n",
              "5                    Recode Price features      3818.0        51.0"
            ]
          },
          "metadata": {
            "tags": []
          },
          "execution_count": 43
        }
      ]
    },
    {
      "cell_type": "markdown",
      "metadata": {
        "id": "d5xAT06GKSbS"
      },
      "source": [
        "b) Convert the 'host_response_rate' with '%' to proportions"
      ]
    },
    {
      "cell_type": "code",
      "metadata": {
        "colab": {
          "base_uri": "https://localhost:8080/"
        },
        "id": "FA0HwAzfKz3S",
        "outputId": "b76b5b0e-f16b-4ffe-aa51-4df45cbf928c"
      },
      "source": [
        "listings['host_response_rate'].isnull().sum()"
      ],
      "execution_count": 44,
      "outputs": [
        {
          "output_type": "execute_result",
          "data": {
            "text/plain": [
              "523"
            ]
          },
          "metadata": {
            "tags": []
          },
          "execution_count": 44
        }
      ]
    },
    {
      "cell_type": "code",
      "metadata": {
        "colab": {
          "base_uri": "https://localhost:8080/"
        },
        "id": "xO__nXLMKas8",
        "outputId": "151f50d0-2967-4c73-9f34-f7edf571954f"
      },
      "source": [
        "temp = listings['host_response_rate'][~listings['host_response_rate'].isnull()]\n",
        "temp = temp.apply(lambda x: float(x.replace('%','')))\n",
        "print('miminum value of host_response_rate is ', temp.min())"
      ],
      "execution_count": 45,
      "outputs": [
        {
          "output_type": "stream",
          "text": [
            "miminum value of host_response_rate is  17.0\n"
          ],
          "name": "stdout"
        }
      ]
    },
    {
      "cell_type": "code",
      "metadata": {
        "colab": {
          "base_uri": "https://localhost:8080/"
        },
        "id": "wbmm47fbL-y9",
        "outputId": "3dcca032-e45e-42d1-b4d9-f80a6b76e040"
      },
      "source": [
        "temp.describe()"
      ],
      "execution_count": 46,
      "outputs": [
        {
          "output_type": "execute_result",
          "data": {
            "text/plain": [
              "count    3295.000000\n",
              "mean       94.886798\n",
              "std        11.866705\n",
              "min        17.000000\n",
              "25%        98.000000\n",
              "50%       100.000000\n",
              "75%       100.000000\n",
              "max       100.000000\n",
              "Name: host_response_rate, dtype: float64"
            ]
          },
          "metadata": {
            "tags": []
          },
          "execution_count": 46
        }
      ]
    },
    {
      "cell_type": "code",
      "metadata": {
        "colab": {
          "base_uri": "https://localhost:8080/",
          "height": 0
        },
        "id": "_QhkRTipMHw1",
        "outputId": "f1bb1391-7d39-46b8-86c3-eb9dc92a1b31"
      },
      "source": [
        "temp.hist();"
      ],
      "execution_count": 47,
      "outputs": [
        {
          "output_type": "display_data",
          "data": {
            "image/png": "[encoded data removed]",
            "text/plain": [
              "<Figure size 432x288 with 1 Axes>"
            ]
          },
          "metadata": {
            "tags": [],
            "needs_background": "light"
          }
        }
      ]
    },
    {
      "cell_type": "code",
      "metadata": {
        "id": "yHlDow12NOVK"
      },
      "source": [
        "# Fill the NA with lower quartile value\n",
        "listings['host_response_rate'] = listings['host_response_rate'].fillna('98%')"
      ],
      "execution_count": 48,
      "outputs": []
    },
    {
      "cell_type": "code",
      "metadata": {
        "id": "RCNqz5n5qrX1"
      },
      "source": [
        "# Convert strings to float numbers\n",
        "listings['host_response_rate'] = listings['host_response_rate'].apply(lambda x: float(x.replace('%','')))"
      ],
      "execution_count": 49,
      "outputs": []
    },
    {
      "cell_type": "code",
      "metadata": {
        "id": "_AG7geb-q3-P"
      },
      "source": [
        "listings['host_response_rate']  = listings['host_response_rate'].apply(lambda x: x/100)"
      ],
      "execution_count": 50,
      "outputs": []
    },
    {
      "cell_type": "code",
      "metadata": {
        "colab": {
          "base_uri": "https://localhost:8080/"
        },
        "id": "T5YIVkxJqJkp",
        "outputId": "f024cf56-4842-4842-d990-dea7c867826f"
      },
      "source": [
        "listings['host_response_rate'].head()"
      ],
      "execution_count": 51,
      "outputs": [
        {
          "output_type": "execute_result",
          "data": {
            "text/plain": [
              "0    0.96\n",
              "1    0.98\n",
              "2    0.67\n",
              "3    0.98\n",
              "4    1.00\n",
              "Name: host_response_rate, dtype: float64"
            ]
          },
          "metadata": {
            "tags": []
          },
          "execution_count": 51
        }
      ]
    },
    {
      "cell_type": "code",
      "metadata": {
        "colab": {
          "base_uri": "https://localhost:8080/",
          "height": 0
        },
        "id": "uJiaZVv_wN93",
        "outputId": "fc0a221d-ae13-4e08-8719-120bbd6621a5"
      },
      "source": [
        "df_copy = listings.copy()\n",
        "\n",
        "# Update the data clean log\n",
        "data_clean_log.at[6,['action','nrow_after','ncol_after']] = ['Recode Percentage features',\n",
        "                                                             listings.shape[0],\n",
        "                                                             listings.shape[1]]\n",
        "data_clean_log"
      ],
      "execution_count": 52,
      "outputs": [
        {
          "output_type": "execute_result",
          "data": {
            "text/html": [
              "<div>\n",
              "<style scoped>\n",
              "    .dataframe tbody tr th:only-of-type {\n",
              "        vertical-align: middle;\n",
              "    }\n",
              "\n",
              "    .dataframe tbody tr th {\n",
              "        vertical-align: top;\n",
              "    }\n",
              "\n",
              "    .dataframe thead th {\n",
              "        text-align: right;\n",
              "    }\n",
              "</style>\n",
              "<table border=\"1\" class=\"dataframe\">\n",
              "  <thead>\n",
              "    <tr style=\"text-align: right;\">\n",
              "      <th></th>\n",
              "      <th>action</th>\n",
              "      <th>nrow_after</th>\n",
              "      <th>ncol_after</th>\n",
              "    </tr>\n",
              "  </thead>\n",
              "  <tbody>\n",
              "    <tr>\n",
              "      <th>0</th>\n",
              "      <td>Start</td>\n",
              "      <td>3818.0</td>\n",
              "      <td>92.0</td>\n",
              "    </tr>\n",
              "    <tr>\n",
              "      <th>1</th>\n",
              "      <td>Remove unrelated features</td>\n",
              "      <td>3818.0</td>\n",
              "      <td>81.0</td>\n",
              "    </tr>\n",
              "    <tr>\n",
              "      <th>2</th>\n",
              "      <td>Drop features with more than 40% of NAN</td>\n",
              "      <td>3818.0</td>\n",
              "      <td>75.0</td>\n",
              "    </tr>\n",
              "    <tr>\n",
              "      <th>3</th>\n",
              "      <td>Drop features with low variability</td>\n",
              "      <td>3818.0</td>\n",
              "      <td>65.0</td>\n",
              "    </tr>\n",
              "    <tr>\n",
              "      <th>4</th>\n",
              "      <td>Drop text features</td>\n",
              "      <td>3818.0</td>\n",
              "      <td>51.0</td>\n",
              "    </tr>\n",
              "    <tr>\n",
              "      <th>5</th>\n",
              "      <td>Recode Price features</td>\n",
              "      <td>3818.0</td>\n",
              "      <td>51.0</td>\n",
              "    </tr>\n",
              "    <tr>\n",
              "      <th>6</th>\n",
              "      <td>Recode Percentage features</td>\n",
              "      <td>3818.0</td>\n",
              "      <td>51.0</td>\n",
              "    </tr>\n",
              "  </tbody>\n",
              "</table>\n",
              "</div>"
            ],
            "text/plain": [
              "                                    action  nrow_after  ncol_after\n",
              "0                                    Start      3818.0        92.0\n",
              "1                Remove unrelated features      3818.0        81.0\n",
              "2  Drop features with more than 40% of NAN      3818.0        75.0\n",
              "3       Drop features with low variability      3818.0        65.0\n",
              "4                       Drop text features      3818.0        51.0\n",
              "5                    Recode Price features      3818.0        51.0\n",
              "6               Recode Percentage features      3818.0        51.0"
            ]
          },
          "metadata": {
            "tags": []
          },
          "execution_count": 52
        }
      ]
    },
    {
      "cell_type": "markdown",
      "metadata": {
        "id": "AyOO63tSKSks"
      },
      "source": [
        "c) Convert boolean features(T/F) to 1/0"
      ]
    },
    {
      "cell_type": "code",
      "metadata": {
        "colab": {
          "base_uri": "https://localhost:8080/",
          "height": 0
        },
        "id": "OZ5xHo6wiH8k",
        "outputId": "082fa975-46fa-48d2-c5d5-8623f5a53692"
      },
      "source": [
        "listings.head(2)"
      ],
      "execution_count": 53,
      "outputs": [
        {
          "output_type": "execute_result",
          "data": {
            "text/html": [
              "<div>\n",
              "<style scoped>\n",
              "    .dataframe tbody tr th:only-of-type {\n",
              "        vertical-align: middle;\n",
              "    }\n",
              "\n",
              "    .dataframe tbody tr th {\n",
              "        vertical-align: top;\n",
              "    }\n",
              "\n",
              "    .dataframe thead th {\n",
              "        text-align: right;\n",
              "    }\n",
              "</style>\n",
              "<table border=\"1\" class=\"dataframe\">\n",
              "  <thead>\n",
              "    <tr style=\"text-align: right;\">\n",
              "      <th></th>\n",
              "      <th>id</th>\n",
              "      <th>host_id</th>\n",
              "      <th>host_since</th>\n",
              "      <th>host_response_time</th>\n",
              "      <th>host_response_rate</th>\n",
              "      <th>host_is_superhost</th>\n",
              "      <th>host_neighbourhood</th>\n",
              "      <th>host_listings_count</th>\n",
              "      <th>host_total_listings_count</th>\n",
              "      <th>host_identity_verified</th>\n",
              "      <th>neighbourhood</th>\n",
              "      <th>neighbourhood_cleansed</th>\n",
              "      <th>neighbourhood_group_cleansed</th>\n",
              "      <th>latitude</th>\n",
              "      <th>longitude</th>\n",
              "      <th>is_location_exact</th>\n",
              "      <th>property_type</th>\n",
              "      <th>room_type</th>\n",
              "      <th>accommodates</th>\n",
              "      <th>bathrooms</th>\n",
              "      <th>bedrooms</th>\n",
              "      <th>beds</th>\n",
              "      <th>bed_type</th>\n",
              "      <th>amenities</th>\n",
              "      <th>price</th>\n",
              "      <th>cleaning_fee</th>\n",
              "      <th>guests_included</th>\n",
              "      <th>extra_people</th>\n",
              "      <th>minimum_nights</th>\n",
              "      <th>maximum_nights</th>\n",
              "      <th>calendar_updated</th>\n",
              "      <th>availability_30</th>\n",
              "      <th>availability_60</th>\n",
              "      <th>availability_90</th>\n",
              "      <th>availability_365</th>\n",
              "      <th>number_of_reviews</th>\n",
              "      <th>first_review</th>\n",
              "      <th>last_review</th>\n",
              "      <th>review_scores_rating</th>\n",
              "      <th>review_scores_accuracy</th>\n",
              "      <th>review_scores_cleanliness</th>\n",
              "      <th>review_scores_checkin</th>\n",
              "      <th>review_scores_communication</th>\n",
              "      <th>review_scores_location</th>\n",
              "      <th>review_scores_value</th>\n",
              "      <th>instant_bookable</th>\n",
              "      <th>cancellation_policy</th>\n",
              "      <th>require_guest_profile_picture</th>\n",
              "      <th>require_guest_phone_verification</th>\n",
              "      <th>calculated_host_listings_count</th>\n",
              "      <th>reviews_per_month</th>\n",
              "    </tr>\n",
              "  </thead>\n",
              "  <tbody>\n",
              "    <tr>\n",
              "      <th>0</th>\n",
              "      <td>241032</td>\n",
              "      <td>956883</td>\n",
              "      <td>2011-08-11</td>\n",
              "      <td>within a few hours</td>\n",
              "      <td>0.96</td>\n",
              "      <td>f</td>\n",
              "      <td>Queen Anne</td>\n",
              "      <td>3.0</td>\n",
              "      <td>3.0</td>\n",
              "      <td>t</td>\n",
              "      <td>Queen Anne</td>\n",
              "      <td>West Queen Anne</td>\n",
              "      <td>Queen Anne</td>\n",
              "      <td>47.636289</td>\n",
              "      <td>-122.371025</td>\n",
              "      <td>t</td>\n",
              "      <td>Apartment</td>\n",
              "      <td>Entire home/apt</td>\n",
              "      <td>4</td>\n",
              "      <td>1.0</td>\n",
              "      <td>1.0</td>\n",
              "      <td>1.0</td>\n",
              "      <td>Real Bed</td>\n",
              "      <td>{TV,\"Cable TV\",Internet,\"Wireless Internet\",\"A...</td>\n",
              "      <td>85.0</td>\n",
              "      <td>0.0</td>\n",
              "      <td>2</td>\n",
              "      <td>5.0</td>\n",
              "      <td>1</td>\n",
              "      <td>365</td>\n",
              "      <td>4 weeks ago</td>\n",
              "      <td>14</td>\n",
              "      <td>41</td>\n",
              "      <td>71</td>\n",
              "      <td>346</td>\n",
              "      <td>207</td>\n",
              "      <td>2011-11-01</td>\n",
              "      <td>2016-01-02</td>\n",
              "      <td>95.0</td>\n",
              "      <td>10.0</td>\n",
              "      <td>10.0</td>\n",
              "      <td>10.0</td>\n",
              "      <td>10.0</td>\n",
              "      <td>9.0</td>\n",
              "      <td>10.0</td>\n",
              "      <td>f</td>\n",
              "      <td>moderate</td>\n",
              "      <td>f</td>\n",
              "      <td>f</td>\n",
              "      <td>2</td>\n",
              "      <td>4.07</td>\n",
              "    </tr>\n",
              "    <tr>\n",
              "      <th>1</th>\n",
              "      <td>953595</td>\n",
              "      <td>5177328</td>\n",
              "      <td>2013-02-21</td>\n",
              "      <td>within an hour</td>\n",
              "      <td>0.98</td>\n",
              "      <td>t</td>\n",
              "      <td>Queen Anne</td>\n",
              "      <td>6.0</td>\n",
              "      <td>6.0</td>\n",
              "      <td>t</td>\n",
              "      <td>Queen Anne</td>\n",
              "      <td>West Queen Anne</td>\n",
              "      <td>Queen Anne</td>\n",
              "      <td>47.639123</td>\n",
              "      <td>-122.365666</td>\n",
              "      <td>t</td>\n",
              "      <td>Apartment</td>\n",
              "      <td>Entire home/apt</td>\n",
              "      <td>4</td>\n",
              "      <td>1.0</td>\n",
              "      <td>1.0</td>\n",
              "      <td>1.0</td>\n",
              "      <td>Real Bed</td>\n",
              "      <td>{TV,Internet,\"Wireless Internet\",Kitchen,\"Free...</td>\n",
              "      <td>150.0</td>\n",
              "      <td>40.0</td>\n",
              "      <td>1</td>\n",
              "      <td>0.0</td>\n",
              "      <td>2</td>\n",
              "      <td>90</td>\n",
              "      <td>today</td>\n",
              "      <td>13</td>\n",
              "      <td>13</td>\n",
              "      <td>16</td>\n",
              "      <td>291</td>\n",
              "      <td>43</td>\n",
              "      <td>2013-08-19</td>\n",
              "      <td>2015-12-29</td>\n",
              "      <td>96.0</td>\n",
              "      <td>10.0</td>\n",
              "      <td>10.0</td>\n",
              "      <td>10.0</td>\n",
              "      <td>10.0</td>\n",
              "      <td>10.0</td>\n",
              "      <td>10.0</td>\n",
              "      <td>f</td>\n",
              "      <td>strict</td>\n",
              "      <td>t</td>\n",
              "      <td>t</td>\n",
              "      <td>6</td>\n",
              "      <td>1.48</td>\n",
              "    </tr>\n",
              "  </tbody>\n",
              "</table>\n",
              "</div>"
            ],
            "text/plain": [
              "       id  host_id  ... calculated_host_listings_count reviews_per_month\n",
              "0  241032   956883  ...                              2              4.07\n",
              "1  953595  5177328  ...                              6              1.48\n",
              "\n",
              "[2 rows x 51 columns]"
            ]
          },
          "metadata": {
            "tags": []
          },
          "execution_count": 53
        }
      ]
    },
    {
      "cell_type": "code",
      "metadata": {
        "id": "jgEW1mJgiIEk"
      },
      "source": [
        "boolean = ['host_is_superhost','host_identity_verified','is_location_exact','instant_bookable',\n",
        "           'require_guest_profile_picture','require_guest_phone_verification']"
      ],
      "execution_count": 54,
      "outputs": []
    },
    {
      "cell_type": "code",
      "metadata": {
        "colab": {
          "base_uri": "https://localhost:8080/"
        },
        "id": "FVwcws8kmqsH",
        "outputId": "21fbd636-62d5-41bc-e8a3-8ceaedec8033"
      },
      "source": [
        "listings[boolean].isnull().sum()"
      ],
      "execution_count": 55,
      "outputs": [
        {
          "output_type": "execute_result",
          "data": {
            "text/plain": [
              "host_is_superhost                   2\n",
              "host_identity_verified              2\n",
              "is_location_exact                   0\n",
              "instant_bookable                    0\n",
              "require_guest_profile_picture       0\n",
              "require_guest_phone_verification    0\n",
              "dtype: int64"
            ]
          },
          "metadata": {
            "tags": []
          },
          "execution_count": 55
        }
      ]
    },
    {
      "cell_type": "code",
      "metadata": {
        "colab": {
          "base_uri": "https://localhost:8080/"
        },
        "id": "YN3csYOpmxST",
        "outputId": "5126153c-faff-48fb-f782-b7b05a9d67a3"
      },
      "source": [
        "listings.host_is_superhost.value_counts()"
      ],
      "execution_count": 56,
      "outputs": [
        {
          "output_type": "execute_result",
          "data": {
            "text/plain": [
              "f    3038\n",
              "t     778\n",
              "Name: host_is_superhost, dtype: int64"
            ]
          },
          "metadata": {
            "tags": []
          },
          "execution_count": 56
        }
      ]
    },
    {
      "cell_type": "code",
      "metadata": {
        "id": "T0iMZyuFnHTG"
      },
      "source": [
        "# Fill the NA in host_is_superhost with f\n",
        "listings.host_is_superhost.fillna('f');"
      ],
      "execution_count": 57,
      "outputs": []
    },
    {
      "cell_type": "code",
      "metadata": {
        "colab": {
          "base_uri": "https://localhost:8080/"
        },
        "id": "FqKCHxjlm93L",
        "outputId": "0a99667f-67ee-4e40-eb14-832b1d31faa7"
      },
      "source": [
        "listings.host_identity_verified.value_counts()"
      ],
      "execution_count": 58,
      "outputs": [
        {
          "output_type": "execute_result",
          "data": {
            "text/plain": [
              "t    2997\n",
              "f     819\n",
              "Name: host_identity_verified, dtype: int64"
            ]
          },
          "metadata": {
            "tags": []
          },
          "execution_count": 58
        }
      ]
    },
    {
      "cell_type": "code",
      "metadata": {
        "id": "nzLep90InU9X"
      },
      "source": [
        "# Although most host verified their identities, we will treat NA value as False in this case\n",
        "listings.host_identity_verified.fillna('f');"
      ],
      "execution_count": 59,
      "outputs": []
    },
    {
      "cell_type": "code",
      "metadata": {
        "id": "zmbR9eCJnqrU"
      },
      "source": [
        "for i in boolean:\n",
        "  listings[i] = listings[i].apply(lambda x: 1 if x=='t' else 0)"
      ],
      "execution_count": 60,
      "outputs": []
    },
    {
      "cell_type": "code",
      "metadata": {
        "colab": {
          "base_uri": "https://localhost:8080/",
          "height": 0
        },
        "id": "C4mpax8asPW2",
        "outputId": "3d8b7201-6033-4a97-9f83-5f6ec3719239"
      },
      "source": [
        "listings[boolean].head()"
      ],
      "execution_count": 61,
      "outputs": [
        {
          "output_type": "execute_result",
          "data": {
            "text/html": [
              "<div>\n",
              "<style scoped>\n",
              "    .dataframe tbody tr th:only-of-type {\n",
              "        vertical-align: middle;\n",
              "    }\n",
              "\n",
              "    .dataframe tbody tr th {\n",
              "        vertical-align: top;\n",
              "    }\n",
              "\n",
              "    .dataframe thead th {\n",
              "        text-align: right;\n",
              "    }\n",
              "</style>\n",
              "<table border=\"1\" class=\"dataframe\">\n",
              "  <thead>\n",
              "    <tr style=\"text-align: right;\">\n",
              "      <th></th>\n",
              "      <th>host_is_superhost</th>\n",
              "      <th>host_identity_verified</th>\n",
              "      <th>is_location_exact</th>\n",
              "      <th>instant_bookable</th>\n",
              "      <th>require_guest_profile_picture</th>\n",
              "      <th>require_guest_phone_verification</th>\n",
              "    </tr>\n",
              "  </thead>\n",
              "  <tbody>\n",
              "    <tr>\n",
              "      <th>0</th>\n",
              "      <td>0</td>\n",
              "      <td>1</td>\n",
              "      <td>1</td>\n",
              "      <td>0</td>\n",
              "      <td>0</td>\n",
              "      <td>0</td>\n",
              "    </tr>\n",
              "    <tr>\n",
              "      <th>1</th>\n",
              "      <td>1</td>\n",
              "      <td>1</td>\n",
              "      <td>1</td>\n",
              "      <td>0</td>\n",
              "      <td>1</td>\n",
              "      <td>1</td>\n",
              "    </tr>\n",
              "    <tr>\n",
              "      <th>2</th>\n",
              "      <td>0</td>\n",
              "      <td>1</td>\n",
              "      <td>1</td>\n",
              "      <td>0</td>\n",
              "      <td>0</td>\n",
              "      <td>0</td>\n",
              "    </tr>\n",
              "    <tr>\n",
              "      <th>3</th>\n",
              "      <td>0</td>\n",
              "      <td>1</td>\n",
              "      <td>1</td>\n",
              "      <td>0</td>\n",
              "      <td>0</td>\n",
              "      <td>0</td>\n",
              "    </tr>\n",
              "    <tr>\n",
              "      <th>4</th>\n",
              "      <td>0</td>\n",
              "      <td>1</td>\n",
              "      <td>1</td>\n",
              "      <td>0</td>\n",
              "      <td>0</td>\n",
              "      <td>0</td>\n",
              "    </tr>\n",
              "  </tbody>\n",
              "</table>\n",
              "</div>"
            ],
            "text/plain": [
              "   host_is_superhost  ...  require_guest_phone_verification\n",
              "0                  0  ...                                 0\n",
              "1                  1  ...                                 1\n",
              "2                  0  ...                                 0\n",
              "3                  0  ...                                 0\n",
              "4                  0  ...                                 0\n",
              "\n",
              "[5 rows x 6 columns]"
            ]
          },
          "metadata": {
            "tags": []
          },
          "execution_count": 61
        }
      ]
    },
    {
      "cell_type": "code",
      "metadata": {
        "colab": {
          "base_uri": "https://localhost:8080/",
          "height": 0
        },
        "id": "7CIsAHp9wX3f",
        "outputId": "8e6a7df2-f145-48c2-8c26-18cdc735c6ae"
      },
      "source": [
        "df_copy = listings.copy()\n",
        "\n",
        "# Update the data clean log\n",
        "data_clean_log.at[7,['action','nrow_after','ncol_after']] = ['Recode Boolean features',\n",
        "                                                             listings.shape[0],\n",
        "                                                             listings.shape[1]]\n",
        "data_clean_log"
      ],
      "execution_count": 62,
      "outputs": [
        {
          "output_type": "execute_result",
          "data": {
            "text/html": [
              "<div>\n",
              "<style scoped>\n",
              "    .dataframe tbody tr th:only-of-type {\n",
              "        vertical-align: middle;\n",
              "    }\n",
              "\n",
              "    .dataframe tbody tr th {\n",
              "        vertical-align: top;\n",
              "    }\n",
              "\n",
              "    .dataframe thead th {\n",
              "        text-align: right;\n",
              "    }\n",
              "</style>\n",
              "<table border=\"1\" class=\"dataframe\">\n",
              "  <thead>\n",
              "    <tr style=\"text-align: right;\">\n",
              "      <th></th>\n",
              "      <th>action</th>\n",
              "      <th>nrow_after</th>\n",
              "      <th>ncol_after</th>\n",
              "    </tr>\n",
              "  </thead>\n",
              "  <tbody>\n",
              "    <tr>\n",
              "      <th>0</th>\n",
              "      <td>Start</td>\n",
              "      <td>3818.0</td>\n",
              "      <td>92.0</td>\n",
              "    </tr>\n",
              "    <tr>\n",
              "      <th>1</th>\n",
              "      <td>Remove unrelated features</td>\n",
              "      <td>3818.0</td>\n",
              "      <td>81.0</td>\n",
              "    </tr>\n",
              "    <tr>\n",
              "      <th>2</th>\n",
              "      <td>Drop features with more than 40% of NAN</td>\n",
              "      <td>3818.0</td>\n",
              "      <td>75.0</td>\n",
              "    </tr>\n",
              "    <tr>\n",
              "      <th>3</th>\n",
              "      <td>Drop features with low variability</td>\n",
              "      <td>3818.0</td>\n",
              "      <td>65.0</td>\n",
              "    </tr>\n",
              "    <tr>\n",
              "      <th>4</th>\n",
              "      <td>Drop text features</td>\n",
              "      <td>3818.0</td>\n",
              "      <td>51.0</td>\n",
              "    </tr>\n",
              "    <tr>\n",
              "      <th>5</th>\n",
              "      <td>Recode Price features</td>\n",
              "      <td>3818.0</td>\n",
              "      <td>51.0</td>\n",
              "    </tr>\n",
              "    <tr>\n",
              "      <th>6</th>\n",
              "      <td>Recode Percentage features</td>\n",
              "      <td>3818.0</td>\n",
              "      <td>51.0</td>\n",
              "    </tr>\n",
              "    <tr>\n",
              "      <th>7</th>\n",
              "      <td>Recode Boolean features</td>\n",
              "      <td>3818.0</td>\n",
              "      <td>51.0</td>\n",
              "    </tr>\n",
              "  </tbody>\n",
              "</table>\n",
              "</div>"
            ],
            "text/plain": [
              "                                    action  nrow_after  ncol_after\n",
              "0                                    Start      3818.0        92.0\n",
              "1                Remove unrelated features      3818.0        81.0\n",
              "2  Drop features with more than 40% of NAN      3818.0        75.0\n",
              "3       Drop features with low variability      3818.0        65.0\n",
              "4                       Drop text features      3818.0        51.0\n",
              "5                    Recode Price features      3818.0        51.0\n",
              "6               Recode Percentage features      3818.0        51.0\n",
              "7                  Recode Boolean features      3818.0        51.0"
            ]
          },
          "metadata": {
            "tags": []
          },
          "execution_count": 62
        }
      ]
    },
    {
      "cell_type": "markdown",
      "metadata": {
        "id": "a3QHZbXEseTs"
      },
      "source": [
        "#### **6) Recode the date features**"
      ]
    },
    {
      "cell_type": "code",
      "metadata": {
        "id": "bLeebkiqsd1G"
      },
      "source": [
        "date = ['host_since','first_review','last_review',]"
      ],
      "execution_count": 63,
      "outputs": []
    },
    {
      "cell_type": "code",
      "metadata": {
        "colab": {
          "base_uri": "https://localhost:8080/",
          "height": 0
        },
        "id": "HbJnEXdKtAXB",
        "outputId": "4db603f3-73b8-4c18-c953-f70bbd556401"
      },
      "source": [
        "listings[date].head()"
      ],
      "execution_count": 64,
      "outputs": [
        {
          "output_type": "execute_result",
          "data": {
            "text/html": [
              "<div>\n",
              "<style scoped>\n",
              "    .dataframe tbody tr th:only-of-type {\n",
              "        vertical-align: middle;\n",
              "    }\n",
              "\n",
              "    .dataframe tbody tr th {\n",
              "        vertical-align: top;\n",
              "    }\n",
              "\n",
              "    .dataframe thead th {\n",
              "        text-align: right;\n",
              "    }\n",
              "</style>\n",
              "<table border=\"1\" class=\"dataframe\">\n",
              "  <thead>\n",
              "    <tr style=\"text-align: right;\">\n",
              "      <th></th>\n",
              "      <th>host_since</th>\n",
              "      <th>first_review</th>\n",
              "      <th>last_review</th>\n",
              "    </tr>\n",
              "  </thead>\n",
              "  <tbody>\n",
              "    <tr>\n",
              "      <th>0</th>\n",
              "      <td>2011-08-11</td>\n",
              "      <td>2011-11-01</td>\n",
              "      <td>2016-01-02</td>\n",
              "    </tr>\n",
              "    <tr>\n",
              "      <th>1</th>\n",
              "      <td>2013-02-21</td>\n",
              "      <td>2013-08-19</td>\n",
              "      <td>2015-12-29</td>\n",
              "    </tr>\n",
              "    <tr>\n",
              "      <th>2</th>\n",
              "      <td>2014-06-12</td>\n",
              "      <td>2014-07-30</td>\n",
              "      <td>2015-09-03</td>\n",
              "    </tr>\n",
              "    <tr>\n",
              "      <th>3</th>\n",
              "      <td>2013-11-06</td>\n",
              "      <td>NaN</td>\n",
              "      <td>NaN</td>\n",
              "    </tr>\n",
              "    <tr>\n",
              "      <th>4</th>\n",
              "      <td>2011-11-29</td>\n",
              "      <td>2012-07-10</td>\n",
              "      <td>2015-10-24</td>\n",
              "    </tr>\n",
              "  </tbody>\n",
              "</table>\n",
              "</div>"
            ],
            "text/plain": [
              "   host_since first_review last_review\n",
              "0  2011-08-11   2011-11-01  2016-01-02\n",
              "1  2013-02-21   2013-08-19  2015-12-29\n",
              "2  2014-06-12   2014-07-30  2015-09-03\n",
              "3  2013-11-06          NaN         NaN\n",
              "4  2011-11-29   2012-07-10  2015-10-24"
            ]
          },
          "metadata": {
            "tags": []
          },
          "execution_count": 64
        }
      ]
    },
    {
      "cell_type": "code",
      "metadata": {
        "colab": {
          "base_uri": "https://localhost:8080/"
        },
        "id": "Nz7AY_y6tGG3",
        "outputId": "52392c5d-c694-4149-c9c0-e171be913781"
      },
      "source": [
        "listings[date].isnull().sum()"
      ],
      "execution_count": 65,
      "outputs": [
        {
          "output_type": "execute_result",
          "data": {
            "text/plain": [
              "host_since        2\n",
              "first_review    627\n",
              "last_review     627\n",
              "dtype: int64"
            ]
          },
          "metadata": {
            "tags": []
          },
          "execution_count": 65
        }
      ]
    },
    {
      "cell_type": "code",
      "metadata": {
        "id": "939gR18etgix"
      },
      "source": [
        "from datetime import datetime\n",
        "for i in date:\n",
        "    listings[i] = pd.to_datetime(listings[i])"
      ],
      "execution_count": 66,
      "outputs": []
    },
    {
      "cell_type": "code",
      "metadata": {
        "id": "jm7BdBZgttrp"
      },
      "source": [
        "# Create a new feature, host_duration, which is data scraped date(2016-01-04) - host_since\n",
        "listings['host_duration'] = pd.to_datetime('2016-01-04') - listings['host_since']"
      ],
      "execution_count": 67,
      "outputs": []
    },
    {
      "cell_type": "code",
      "metadata": {
        "colab": {
          "base_uri": "https://localhost:8080/",
          "height": 0
        },
        "id": "lLKiHje0vMA4",
        "outputId": "3b943ec8-b51e-4d5e-9343-a3a9a21c4909"
      },
      "source": [
        "df_copy = listings.copy()\n",
        "\n",
        "# Update the data clean log\n",
        "data_clean_log.at[8,['action','nrow_after','ncol_after']] = ['Recode date features',\n",
        "                                                             listings.shape[0],\n",
        "                                                             listings.shape[1]]\n",
        "data_clean_log"
      ],
      "execution_count": 68,
      "outputs": [
        {
          "output_type": "execute_result",
          "data": {
            "text/html": [
              "<div>\n",
              "<style scoped>\n",
              "    .dataframe tbody tr th:only-of-type {\n",
              "        vertical-align: middle;\n",
              "    }\n",
              "\n",
              "    .dataframe tbody tr th {\n",
              "        vertical-align: top;\n",
              "    }\n",
              "\n",
              "    .dataframe thead th {\n",
              "        text-align: right;\n",
              "    }\n",
              "</style>\n",
              "<table border=\"1\" class=\"dataframe\">\n",
              "  <thead>\n",
              "    <tr style=\"text-align: right;\">\n",
              "      <th></th>\n",
              "      <th>action</th>\n",
              "      <th>nrow_after</th>\n",
              "      <th>ncol_after</th>\n",
              "    </tr>\n",
              "  </thead>\n",
              "  <tbody>\n",
              "    <tr>\n",
              "      <th>0</th>\n",
              "      <td>Start</td>\n",
              "      <td>3818.0</td>\n",
              "      <td>92.0</td>\n",
              "    </tr>\n",
              "    <tr>\n",
              "      <th>1</th>\n",
              "      <td>Remove unrelated features</td>\n",
              "      <td>3818.0</td>\n",
              "      <td>81.0</td>\n",
              "    </tr>\n",
              "    <tr>\n",
              "      <th>2</th>\n",
              "      <td>Drop features with more than 40% of NAN</td>\n",
              "      <td>3818.0</td>\n",
              "      <td>75.0</td>\n",
              "    </tr>\n",
              "    <tr>\n",
              "      <th>3</th>\n",
              "      <td>Drop features with low variability</td>\n",
              "      <td>3818.0</td>\n",
              "      <td>65.0</td>\n",
              "    </tr>\n",
              "    <tr>\n",
              "      <th>4</th>\n",
              "      <td>Drop text features</td>\n",
              "      <td>3818.0</td>\n",
              "      <td>51.0</td>\n",
              "    </tr>\n",
              "    <tr>\n",
              "      <th>5</th>\n",
              "      <td>Recode Price features</td>\n",
              "      <td>3818.0</td>\n",
              "      <td>51.0</td>\n",
              "    </tr>\n",
              "    <tr>\n",
              "      <th>6</th>\n",
              "      <td>Recode Percentage features</td>\n",
              "      <td>3818.0</td>\n",
              "      <td>51.0</td>\n",
              "    </tr>\n",
              "    <tr>\n",
              "      <th>7</th>\n",
              "      <td>Recode Boolean features</td>\n",
              "      <td>3818.0</td>\n",
              "      <td>51.0</td>\n",
              "    </tr>\n",
              "    <tr>\n",
              "      <th>8</th>\n",
              "      <td>Recode date features</td>\n",
              "      <td>3818.0</td>\n",
              "      <td>52.0</td>\n",
              "    </tr>\n",
              "  </tbody>\n",
              "</table>\n",
              "</div>"
            ],
            "text/plain": [
              "                                    action  nrow_after  ncol_after\n",
              "0                                    Start      3818.0        92.0\n",
              "1                Remove unrelated features      3818.0        81.0\n",
              "2  Drop features with more than 40% of NAN      3818.0        75.0\n",
              "3       Drop features with low variability      3818.0        65.0\n",
              "4                       Drop text features      3818.0        51.0\n",
              "5                    Recode Price features      3818.0        51.0\n",
              "6               Recode Percentage features      3818.0        51.0\n",
              "7                  Recode Boolean features      3818.0        51.0\n",
              "8                     Recode date features      3818.0        52.0"
            ]
          },
          "metadata": {
            "tags": []
          },
          "execution_count": 68
        }
      ]
    },
    {
      "cell_type": "markdown",
      "metadata": {
        "id": "sL0pWyLdw5U1"
      },
      "source": [
        "#### **7) Convert categorical features to dummy coded variables**"
      ]
    },
    {
      "cell_type": "code",
      "metadata": {
        "id": "Br8wrixew-6r"
      },
      "source": [
        "cat = ['host_response_time','property_type','room_type',\n",
        "       'bed_type','cancellation_policy']"
      ],
      "execution_count": 69,
      "outputs": []
    },
    {
      "cell_type": "code",
      "metadata": {
        "colab": {
          "base_uri": "https://localhost:8080/"
        },
        "id": "WlxQ6Q2Fw-9i",
        "outputId": "1a1986dc-b993-4f6c-e617-9efb7d5a3efd"
      },
      "source": [
        "for i in cat:\n",
        "    print(listings[i].value_counts(dropna = False))"
      ],
      "execution_count": 70,
      "outputs": [
        {
          "output_type": "stream",
          "text": [
            "within an hour        1692\n",
            "within a few hours     968\n",
            "within a day           597\n",
            "NaN                    523\n",
            "a few days or more      38\n",
            "Name: host_response_time, dtype: int64\n",
            "House              1733\n",
            "Apartment          1708\n",
            "Townhouse           118\n",
            "Condominium          91\n",
            "Loft                 40\n",
            "Bed & Breakfast      37\n",
            "Other                22\n",
            "Cabin                21\n",
            "Bungalow             13\n",
            "Camper/RV            13\n",
            "Boat                  8\n",
            "Tent                  5\n",
            "Treehouse             3\n",
            "Chalet                2\n",
            "Dorm                  2\n",
            "Yurt                  1\n",
            "NaN                   1\n",
            "Name: property_type, dtype: int64\n",
            "Entire home/apt    2541\n",
            "Private room       1160\n",
            "Shared room         117\n",
            "Name: room_type, dtype: int64\n",
            "Real Bed         3657\n",
            "Futon              74\n",
            "Pull-out Sofa      47\n",
            "Airbed             27\n",
            "Couch              13\n",
            "Name: bed_type, dtype: int64\n",
            "strict      1417\n",
            "moderate    1251\n",
            "flexible    1150\n",
            "Name: cancellation_policy, dtype: int64\n"
          ],
          "name": "stdout"
        }
      ]
    },
    {
      "cell_type": "code",
      "metadata": {
        "colab": {
          "base_uri": "https://localhost:8080/"
        },
        "id": "9nabsBIHw_GP",
        "outputId": "105a889f-bc73-476f-a9a2-196f9b25af10"
      },
      "source": [
        "# Classifying the propertie type into 4 main categories, House, Apartment, Townhouse or Condo, Others\n",
        "def recode_property_type(df):\n",
        "  if df['property_type'] == 'House': \n",
        "    return 'House'\n",
        "  elif df['property_type'] == 'Apartment':\n",
        "    return 'Apartment'\n",
        "  elif df['property_type'] == 'Condominium' or df['property_type'] == 'Townhouse':\n",
        "    return 'Townhouse or Condo'\n",
        "  else:\n",
        "    return 'Others'\n",
        "\n",
        "listings['property_type'] = listings.apply(recode_property_type, axis=1)\n",
        "listings.property_type.value_counts()"
      ],
      "execution_count": 71,
      "outputs": [
        {
          "output_type": "execute_result",
          "data": {
            "text/plain": [
              "House                 1733\n",
              "Apartment             1708\n",
              "Townhouse or Condo     209\n",
              "Others                 168\n",
              "Name: property_type, dtype: int64"
            ]
          },
          "metadata": {
            "tags": []
          },
          "execution_count": 71
        }
      ]
    },
    {
      "cell_type": "code",
      "metadata": {
        "colab": {
          "base_uri": "https://localhost:8080/"
        },
        "id": "JEdiGQIoCzHt",
        "outputId": "8dba55c4-8bb6-4e8c-ee53-3e52bec15fa0"
      },
      "source": [
        "# Classifying bed_type into 2 main categories, real_bed, not_real_bed\n",
        "def recode_bed_type(df):\n",
        "  if df['bed_type'] == 'Real Bed':\n",
        "    return 'Real Bed'\n",
        "  else:\n",
        "    return 'Not real bed'\n",
        "\n",
        "listings['bed_type'] = listings.apply(recode_bed_type, axis=1)\n",
        "listings.bed_type.value_counts()"
      ],
      "execution_count": 72,
      "outputs": [
        {
          "output_type": "execute_result",
          "data": {
            "text/plain": [
              "Real Bed        3657\n",
              "Not real bed     161\n",
              "Name: bed_type, dtype: int64"
            ]
          },
          "metadata": {
            "tags": []
          },
          "execution_count": 72
        }
      ]
    },
    {
      "cell_type": "code",
      "metadata": {
        "colab": {
          "base_uri": "https://localhost:8080/",
          "height": 0
        },
        "id": "NWck9k1jDuP3",
        "outputId": "fc8d0265-6482-4147-c498-ccf9d32ac7bf"
      },
      "source": [
        "listings.head(2)"
      ],
      "execution_count": 73,
      "outputs": [
        {
          "output_type": "execute_result",
          "data": {
            "text/html": [
              "<div>\n",
              "<style scoped>\n",
              "    .dataframe tbody tr th:only-of-type {\n",
              "        vertical-align: middle;\n",
              "    }\n",
              "\n",
              "    .dataframe tbody tr th {\n",
              "        vertical-align: top;\n",
              "    }\n",
              "\n",
              "    .dataframe thead th {\n",
              "        text-align: right;\n",
              "    }\n",
              "</style>\n",
              "<table border=\"1\" class=\"dataframe\">\n",
              "  <thead>\n",
              "    <tr style=\"text-align: right;\">\n",
              "      <th></th>\n",
              "      <th>id</th>\n",
              "      <th>host_id</th>\n",
              "      <th>host_since</th>\n",
              "      <th>host_response_time</th>\n",
              "      <th>host_response_rate</th>\n",
              "      <th>host_is_superhost</th>\n",
              "      <th>host_neighbourhood</th>\n",
              "      <th>host_listings_count</th>\n",
              "      <th>host_total_listings_count</th>\n",
              "      <th>host_identity_verified</th>\n",
              "      <th>neighbourhood</th>\n",
              "      <th>neighbourhood_cleansed</th>\n",
              "      <th>neighbourhood_group_cleansed</th>\n",
              "      <th>latitude</th>\n",
              "      <th>longitude</th>\n",
              "      <th>is_location_exact</th>\n",
              "      <th>property_type</th>\n",
              "      <th>room_type</th>\n",
              "      <th>accommodates</th>\n",
              "      <th>bathrooms</th>\n",
              "      <th>bedrooms</th>\n",
              "      <th>beds</th>\n",
              "      <th>bed_type</th>\n",
              "      <th>amenities</th>\n",
              "      <th>price</th>\n",
              "      <th>cleaning_fee</th>\n",
              "      <th>guests_included</th>\n",
              "      <th>extra_people</th>\n",
              "      <th>minimum_nights</th>\n",
              "      <th>maximum_nights</th>\n",
              "      <th>calendar_updated</th>\n",
              "      <th>availability_30</th>\n",
              "      <th>availability_60</th>\n",
              "      <th>availability_90</th>\n",
              "      <th>availability_365</th>\n",
              "      <th>number_of_reviews</th>\n",
              "      <th>first_review</th>\n",
              "      <th>last_review</th>\n",
              "      <th>review_scores_rating</th>\n",
              "      <th>review_scores_accuracy</th>\n",
              "      <th>review_scores_cleanliness</th>\n",
              "      <th>review_scores_checkin</th>\n",
              "      <th>review_scores_communication</th>\n",
              "      <th>review_scores_location</th>\n",
              "      <th>review_scores_value</th>\n",
              "      <th>instant_bookable</th>\n",
              "      <th>cancellation_policy</th>\n",
              "      <th>require_guest_profile_picture</th>\n",
              "      <th>require_guest_phone_verification</th>\n",
              "      <th>calculated_host_listings_count</th>\n",
              "      <th>reviews_per_month</th>\n",
              "      <th>host_duration</th>\n",
              "    </tr>\n",
              "  </thead>\n",
              "  <tbody>\n",
              "    <tr>\n",
              "      <th>0</th>\n",
              "      <td>241032</td>\n",
              "      <td>956883</td>\n",
              "      <td>2011-08-11</td>\n",
              "      <td>within a few hours</td>\n",
              "      <td>0.96</td>\n",
              "      <td>0</td>\n",
              "      <td>Queen Anne</td>\n",
              "      <td>3.0</td>\n",
              "      <td>3.0</td>\n",
              "      <td>1</td>\n",
              "      <td>Queen Anne</td>\n",
              "      <td>West Queen Anne</td>\n",
              "      <td>Queen Anne</td>\n",
              "      <td>47.636289</td>\n",
              "      <td>-122.371025</td>\n",
              "      <td>1</td>\n",
              "      <td>Apartment</td>\n",
              "      <td>Entire home/apt</td>\n",
              "      <td>4</td>\n",
              "      <td>1.0</td>\n",
              "      <td>1.0</td>\n",
              "      <td>1.0</td>\n",
              "      <td>Real Bed</td>\n",
              "      <td>{TV,\"Cable TV\",Internet,\"Wireless Internet\",\"A...</td>\n",
              "      <td>85.0</td>\n",
              "      <td>0.0</td>\n",
              "      <td>2</td>\n",
              "      <td>5.0</td>\n",
              "      <td>1</td>\n",
              "      <td>365</td>\n",
              "      <td>4 weeks ago</td>\n",
              "      <td>14</td>\n",
              "      <td>41</td>\n",
              "      <td>71</td>\n",
              "      <td>346</td>\n",
              "      <td>207</td>\n",
              "      <td>2011-11-01</td>\n",
              "      <td>2016-01-02</td>\n",
              "      <td>95.0</td>\n",
              "      <td>10.0</td>\n",
              "      <td>10.0</td>\n",
              "      <td>10.0</td>\n",
              "      <td>10.0</td>\n",
              "      <td>9.0</td>\n",
              "      <td>10.0</td>\n",
              "      <td>0</td>\n",
              "      <td>moderate</td>\n",
              "      <td>0</td>\n",
              "      <td>0</td>\n",
              "      <td>2</td>\n",
              "      <td>4.07</td>\n",
              "      <td>1607 days</td>\n",
              "    </tr>\n",
              "    <tr>\n",
              "      <th>1</th>\n",
              "      <td>953595</td>\n",
              "      <td>5177328</td>\n",
              "      <td>2013-02-21</td>\n",
              "      <td>within an hour</td>\n",
              "      <td>0.98</td>\n",
              "      <td>1</td>\n",
              "      <td>Queen Anne</td>\n",
              "      <td>6.0</td>\n",
              "      <td>6.0</td>\n",
              "      <td>1</td>\n",
              "      <td>Queen Anne</td>\n",
              "      <td>West Queen Anne</td>\n",
              "      <td>Queen Anne</td>\n",
              "      <td>47.639123</td>\n",
              "      <td>-122.365666</td>\n",
              "      <td>1</td>\n",
              "      <td>Apartment</td>\n",
              "      <td>Entire home/apt</td>\n",
              "      <td>4</td>\n",
              "      <td>1.0</td>\n",
              "      <td>1.0</td>\n",
              "      <td>1.0</td>\n",
              "      <td>Real Bed</td>\n",
              "      <td>{TV,Internet,\"Wireless Internet\",Kitchen,\"Free...</td>\n",
              "      <td>150.0</td>\n",
              "      <td>40.0</td>\n",
              "      <td>1</td>\n",
              "      <td>0.0</td>\n",
              "      <td>2</td>\n",
              "      <td>90</td>\n",
              "      <td>today</td>\n",
              "      <td>13</td>\n",
              "      <td>13</td>\n",
              "      <td>16</td>\n",
              "      <td>291</td>\n",
              "      <td>43</td>\n",
              "      <td>2013-08-19</td>\n",
              "      <td>2015-12-29</td>\n",
              "      <td>96.0</td>\n",
              "      <td>10.0</td>\n",
              "      <td>10.0</td>\n",
              "      <td>10.0</td>\n",
              "      <td>10.0</td>\n",
              "      <td>10.0</td>\n",
              "      <td>10.0</td>\n",
              "      <td>0</td>\n",
              "      <td>strict</td>\n",
              "      <td>1</td>\n",
              "      <td>1</td>\n",
              "      <td>6</td>\n",
              "      <td>1.48</td>\n",
              "      <td>1047 days</td>\n",
              "    </tr>\n",
              "  </tbody>\n",
              "</table>\n",
              "</div>"
            ],
            "text/plain": [
              "       id  host_id  ... reviews_per_month host_duration\n",
              "0  241032   956883  ...              4.07     1607 days\n",
              "1  953595  5177328  ...              1.48     1047 days\n",
              "\n",
              "[2 rows x 52 columns]"
            ]
          },
          "metadata": {
            "tags": []
          },
          "execution_count": 73
        }
      ]
    },
    {
      "cell_type": "code",
      "metadata": {
        "id": "cDZSYqmJDyrh"
      },
      "source": [
        "neighbourhood = ['host_neighbourhood','neighbourhood','neighbourhood_cleansed','neighbourhood_group_cleansed']"
      ],
      "execution_count": 74,
      "outputs": []
    },
    {
      "cell_type": "code",
      "metadata": {
        "colab": {
          "base_uri": "https://localhost:8080/"
        },
        "id": "WNpAn7VYELwE",
        "outputId": "51e8fbc9-cf1a-4065-c6ad-8117ac56b336"
      },
      "source": [
        "for i in neighbourhood:\n",
        "  print(listings[i].value_counts(dropna = False))\n"
      ],
      "execution_count": 75,
      "outputs": [
        {
          "output_type": "stream",
          "text": [
            "Capitol Hill         405\n",
            "NaN                  300\n",
            "Belltown             254\n",
            "Ballard              210\n",
            "Minor                191\n",
            "                    ... \n",
            "Roxhill                1\n",
            "Central San Pedro      1\n",
            "Huntington Beach       1\n",
            "Waianae Coast          1\n",
            "Pinehurst              1\n",
            "Name: host_neighbourhood, Length: 103, dtype: int64\n",
            "NaN                   416\n",
            "Capitol Hill          351\n",
            "Ballard               213\n",
            "Belltown              204\n",
            "Minor                 192\n",
            "                     ... \n",
            "South Park              2\n",
            "South Beacon Hill       2\n",
            "North College Park      1\n",
            "Roxhill                 1\n",
            "Fairmount Park          1\n",
            "Name: neighbourhood, Length: 82, dtype: int64\n",
            "Broadway             397\n",
            "Belltown             234\n",
            "Wallingford          167\n",
            "Fremont              158\n",
            "Minor                135\n",
            "                    ... \n",
            "Arbor Heights          5\n",
            "South Beacon Hill      4\n",
            "Pinehurst              4\n",
            "South Park             3\n",
            "Roxhill                2\n",
            "Name: neighbourhood_cleansed, Length: 87, dtype: int64\n",
            "Other neighborhoods    794\n",
            "Capitol Hill           567\n",
            "Downtown               530\n",
            "Central Area           369\n",
            "Queen Anne             295\n",
            "Ballard                230\n",
            "West Seattle           203\n",
            "Rainier Valley         159\n",
            "University District    122\n",
            "Beacon Hill            118\n",
            "Cascade                 89\n",
            "Northgate               80\n",
            "Delridge                79\n",
            "Lake City               67\n",
            "Magnolia                61\n",
            "Seward Park             44\n",
            "Interbay                11\n",
            "Name: neighbourhood_group_cleansed, dtype: int64\n"
          ],
          "name": "stdout"
        }
      ]
    },
    {
      "cell_type": "code",
      "metadata": {
        "id": "eHM1DZ53F4O3"
      },
      "source": [
        "# There are too many categories in neighbourhood,host_neighbourhood and neighbourhood_cleansed\n",
        "# So we are going to remove these 3 features\n",
        "listings.drop(columns=['neighbourhood','host_neighbourhood','neighbourhood_cleansed'],inplace=True);"
      ],
      "execution_count": 76,
      "outputs": []
    },
    {
      "cell_type": "code",
      "metadata": {
        "id": "iqNtL5hlGTlx"
      },
      "source": [
        "# Convert categorical features into dummy varibles.\n",
        "# There 17 categories in neighbourhood_group_cleansed, so we will not recode it at this time.\n",
        "for i in cat:\n",
        "    listings = pd.concat([listings, \n",
        "                    pd.get_dummies(listings[i], prefix = i, prefix_sep = '_', \n",
        "                                drop_first = False, dummy_na = True)], axis=1)"
      ],
      "execution_count": 77,
      "outputs": []
    },
    {
      "cell_type": "code",
      "metadata": {
        "colab": {
          "base_uri": "https://localhost:8080/",
          "height": 0
        },
        "id": "lqS8WK3MHU12",
        "outputId": "f271f054-f07e-431e-dfd1-0a8efc611302"
      },
      "source": [
        "df_copy = listings.copy()\n",
        "\n",
        "# Update the data clean log\n",
        "data_clean_log.at[9,['action','nrow_after','ncol_after']] = ['Create dummy variables',\n",
        "                                                             listings.shape[0],\n",
        "                                                             listings.shape[1]]\n",
        "data_clean_log"
      ],
      "execution_count": 78,
      "outputs": [
        {
          "output_type": "execute_result",
          "data": {
            "text/html": [
              "<div>\n",
              "<style scoped>\n",
              "    .dataframe tbody tr th:only-of-type {\n",
              "        vertical-align: middle;\n",
              "    }\n",
              "\n",
              "    .dataframe tbody tr th {\n",
              "        vertical-align: top;\n",
              "    }\n",
              "\n",
              "    .dataframe thead th {\n",
              "        text-align: right;\n",
              "    }\n",
              "</style>\n",
              "<table border=\"1\" class=\"dataframe\">\n",
              "  <thead>\n",
              "    <tr style=\"text-align: right;\">\n",
              "      <th></th>\n",
              "      <th>action</th>\n",
              "      <th>nrow_after</th>\n",
              "      <th>ncol_after</th>\n",
              "    </tr>\n",
              "  </thead>\n",
              "  <tbody>\n",
              "    <tr>\n",
              "      <th>0</th>\n",
              "      <td>Start</td>\n",
              "      <td>3818.0</td>\n",
              "      <td>92.0</td>\n",
              "    </tr>\n",
              "    <tr>\n",
              "      <th>1</th>\n",
              "      <td>Remove unrelated features</td>\n",
              "      <td>3818.0</td>\n",
              "      <td>81.0</td>\n",
              "    </tr>\n",
              "    <tr>\n",
              "      <th>2</th>\n",
              "      <td>Drop features with more than 40% of NAN</td>\n",
              "      <td>3818.0</td>\n",
              "      <td>75.0</td>\n",
              "    </tr>\n",
              "    <tr>\n",
              "      <th>3</th>\n",
              "      <td>Drop features with low variability</td>\n",
              "      <td>3818.0</td>\n",
              "      <td>65.0</td>\n",
              "    </tr>\n",
              "    <tr>\n",
              "      <th>4</th>\n",
              "      <td>Drop text features</td>\n",
              "      <td>3818.0</td>\n",
              "      <td>51.0</td>\n",
              "    </tr>\n",
              "    <tr>\n",
              "      <th>5</th>\n",
              "      <td>Recode Price features</td>\n",
              "      <td>3818.0</td>\n",
              "      <td>51.0</td>\n",
              "    </tr>\n",
              "    <tr>\n",
              "      <th>6</th>\n",
              "      <td>Recode Percentage features</td>\n",
              "      <td>3818.0</td>\n",
              "      <td>51.0</td>\n",
              "    </tr>\n",
              "    <tr>\n",
              "      <th>7</th>\n",
              "      <td>Recode Boolean features</td>\n",
              "      <td>3818.0</td>\n",
              "      <td>51.0</td>\n",
              "    </tr>\n",
              "    <tr>\n",
              "      <th>8</th>\n",
              "      <td>Recode date features</td>\n",
              "      <td>3818.0</td>\n",
              "      <td>52.0</td>\n",
              "    </tr>\n",
              "    <tr>\n",
              "      <th>9</th>\n",
              "      <td>Create dummy variables</td>\n",
              "      <td>3818.0</td>\n",
              "      <td>70.0</td>\n",
              "    </tr>\n",
              "  </tbody>\n",
              "</table>\n",
              "</div>"
            ],
            "text/plain": [
              "                                    action  nrow_after  ncol_after\n",
              "0                                    Start      3818.0        92.0\n",
              "1                Remove unrelated features      3818.0        81.0\n",
              "2  Drop features with more than 40% of NAN      3818.0        75.0\n",
              "3       Drop features with low variability      3818.0        65.0\n",
              "4                       Drop text features      3818.0        51.0\n",
              "5                    Recode Price features      3818.0        51.0\n",
              "6               Recode Percentage features      3818.0        51.0\n",
              "7                  Recode Boolean features      3818.0        51.0\n",
              "8                     Recode date features      3818.0        52.0\n",
              "9                   Create dummy variables      3818.0        70.0"
            ]
          },
          "metadata": {
            "tags": []
          },
          "execution_count": 78
        }
      ]
    },
    {
      "cell_type": "code",
      "metadata": {
        "id": "dharlDDwoYAn"
      },
      "source": [
        ""
      ],
      "execution_count": 78,
      "outputs": []
    },
    {
      "cell_type": "markdown",
      "metadata": {
        "id": "FO3xVN__JkXB"
      },
      "source": [
        "#### **8) Missing Value**"
      ]
    },
    {
      "cell_type": "code",
      "metadata": {
        "colab": {
          "base_uri": "https://localhost:8080/"
        },
        "id": "1wfJCXSQHp3G",
        "outputId": "f0f3a34c-0c0e-48bc-907c-922e9603cf20"
      },
      "source": [
        "listings.isnull().mean()[listings.isnull().sum() != 0]"
      ],
      "execution_count": 79,
      "outputs": [
        {
          "output_type": "execute_result",
          "data": {
            "text/plain": [
              "host_since                     0.000524\n",
              "host_response_time             0.136983\n",
              "host_listings_count            0.000524\n",
              "host_total_listings_count      0.000524\n",
              "bathrooms                      0.004191\n",
              "bedrooms                       0.001572\n",
              "beds                           0.000262\n",
              "first_review                   0.164222\n",
              "last_review                    0.164222\n",
              "review_scores_rating           0.169460\n",
              "review_scores_accuracy         0.172342\n",
              "review_scores_cleanliness      0.171032\n",
              "review_scores_checkin          0.172342\n",
              "review_scores_communication    0.170508\n",
              "review_scores_location         0.171556\n",
              "review_scores_value            0.171818\n",
              "reviews_per_month              0.164222\n",
              "host_duration                  0.000524\n",
              "dtype: float64"
            ]
          },
          "metadata": {
            "tags": []
          },
          "execution_count": 79
        }
      ]
    },
    {
      "cell_type": "markdown",
      "metadata": {
        "id": "az4K90BaLoXr"
      },
      "source": [
        "**Fill the NAN in host_listings_count**"
      ]
    },
    {
      "cell_type": "code",
      "metadata": {
        "colab": {
          "base_uri": "https://localhost:8080/",
          "height": 214
        },
        "id": "wkh5A2fMIxH-",
        "outputId": "52660487-94cf-497c-dc4a-a9f429ac6645"
      },
      "source": [
        "listings[listings.host_listings_count.isnull()]"
      ],
      "execution_count": 80,
      "outputs": [
        {
          "output_type": "execute_result",
          "data": {
            "text/html": [
              "<div>\n",
              "<style scoped>\n",
              "    .dataframe tbody tr th:only-of-type {\n",
              "        vertical-align: middle;\n",
              "    }\n",
              "\n",
              "    .dataframe tbody tr th {\n",
              "        vertical-align: top;\n",
              "    }\n",
              "\n",
              "    .dataframe thead th {\n",
              "        text-align: right;\n",
              "    }\n",
              "</style>\n",
              "<table border=\"1\" class=\"dataframe\">\n",
              "  <thead>\n",
              "    <tr style=\"text-align: right;\">\n",
              "      <th></th>\n",
              "      <th>id</th>\n",
              "      <th>host_id</th>\n",
              "      <th>host_since</th>\n",
              "      <th>host_response_time</th>\n",
              "      <th>host_response_rate</th>\n",
              "      <th>host_is_superhost</th>\n",
              "      <th>host_listings_count</th>\n",
              "      <th>host_total_listings_count</th>\n",
              "      <th>host_identity_verified</th>\n",
              "      <th>neighbourhood_group_cleansed</th>\n",
              "      <th>latitude</th>\n",
              "      <th>longitude</th>\n",
              "      <th>is_location_exact</th>\n",
              "      <th>property_type</th>\n",
              "      <th>room_type</th>\n",
              "      <th>accommodates</th>\n",
              "      <th>bathrooms</th>\n",
              "      <th>bedrooms</th>\n",
              "      <th>beds</th>\n",
              "      <th>bed_type</th>\n",
              "      <th>amenities</th>\n",
              "      <th>price</th>\n",
              "      <th>cleaning_fee</th>\n",
              "      <th>guests_included</th>\n",
              "      <th>extra_people</th>\n",
              "      <th>minimum_nights</th>\n",
              "      <th>maximum_nights</th>\n",
              "      <th>calendar_updated</th>\n",
              "      <th>availability_30</th>\n",
              "      <th>availability_60</th>\n",
              "      <th>availability_90</th>\n",
              "      <th>availability_365</th>\n",
              "      <th>number_of_reviews</th>\n",
              "      <th>first_review</th>\n",
              "      <th>last_review</th>\n",
              "      <th>review_scores_rating</th>\n",
              "      <th>review_scores_accuracy</th>\n",
              "      <th>review_scores_cleanliness</th>\n",
              "      <th>review_scores_checkin</th>\n",
              "      <th>review_scores_communication</th>\n",
              "      <th>review_scores_location</th>\n",
              "      <th>review_scores_value</th>\n",
              "      <th>instant_bookable</th>\n",
              "      <th>cancellation_policy</th>\n",
              "      <th>require_guest_profile_picture</th>\n",
              "      <th>require_guest_phone_verification</th>\n",
              "      <th>calculated_host_listings_count</th>\n",
              "      <th>reviews_per_month</th>\n",
              "      <th>host_duration</th>\n",
              "      <th>host_response_time_a few days or more</th>\n",
              "      <th>host_response_time_within a day</th>\n",
              "      <th>host_response_time_within a few hours</th>\n",
              "      <th>host_response_time_within an hour</th>\n",
              "      <th>host_response_time_nan</th>\n",
              "      <th>property_type_Apartment</th>\n",
              "      <th>property_type_House</th>\n",
              "      <th>property_type_Others</th>\n",
              "      <th>property_type_Townhouse or Condo</th>\n",
              "      <th>property_type_nan</th>\n",
              "      <th>room_type_Entire home/apt</th>\n",
              "      <th>room_type_Private room</th>\n",
              "      <th>room_type_Shared room</th>\n",
              "      <th>room_type_nan</th>\n",
              "      <th>bed_type_Not real bed</th>\n",
              "      <th>bed_type_Real Bed</th>\n",
              "      <th>bed_type_nan</th>\n",
              "      <th>cancellation_policy_flexible</th>\n",
              "      <th>cancellation_policy_moderate</th>\n",
              "      <th>cancellation_policy_strict</th>\n",
              "      <th>cancellation_policy_nan</th>\n",
              "    </tr>\n",
              "  </thead>\n",
              "  <tbody>\n",
              "    <tr>\n",
              "      <th>1297</th>\n",
              "      <td>8354452</td>\n",
              "      <td>42515980</td>\n",
              "      <td>NaT</td>\n",
              "      <td>NaN</td>\n",
              "      <td>0.98</td>\n",
              "      <td>0</td>\n",
              "      <td>NaN</td>\n",
              "      <td>NaN</td>\n",
              "      <td>0</td>\n",
              "      <td>Downtown</td>\n",
              "      <td>47.616705</td>\n",
              "      <td>-122.353969</td>\n",
              "      <td>1</td>\n",
              "      <td>Apartment</td>\n",
              "      <td>Entire home/apt</td>\n",
              "      <td>2</td>\n",
              "      <td>1.0</td>\n",
              "      <td>0.0</td>\n",
              "      <td>1.0</td>\n",
              "      <td>Real Bed</td>\n",
              "      <td>{TV,Internet,\"Wireless Internet\",\"Air Conditio...</td>\n",
              "      <td>99.0</td>\n",
              "      <td>25.0</td>\n",
              "      <td>1</td>\n",
              "      <td>25.0</td>\n",
              "      <td>2</td>\n",
              "      <td>13</td>\n",
              "      <td>2 months ago</td>\n",
              "      <td>30</td>\n",
              "      <td>60</td>\n",
              "      <td>89</td>\n",
              "      <td>89</td>\n",
              "      <td>0</td>\n",
              "      <td>NaT</td>\n",
              "      <td>NaT</td>\n",
              "      <td>NaN</td>\n",
              "      <td>NaN</td>\n",
              "      <td>NaN</td>\n",
              "      <td>NaN</td>\n",
              "      <td>NaN</td>\n",
              "      <td>NaN</td>\n",
              "      <td>NaN</td>\n",
              "      <td>0</td>\n",
              "      <td>moderate</td>\n",
              "      <td>0</td>\n",
              "      <td>0</td>\n",
              "      <td>1</td>\n",
              "      <td>NaN</td>\n",
              "      <td>NaT</td>\n",
              "      <td>0</td>\n",
              "      <td>0</td>\n",
              "      <td>0</td>\n",
              "      <td>0</td>\n",
              "      <td>1</td>\n",
              "      <td>1</td>\n",
              "      <td>0</td>\n",
              "      <td>0</td>\n",
              "      <td>0</td>\n",
              "      <td>0</td>\n",
              "      <td>1</td>\n",
              "      <td>0</td>\n",
              "      <td>0</td>\n",
              "      <td>0</td>\n",
              "      <td>0</td>\n",
              "      <td>1</td>\n",
              "      <td>0</td>\n",
              "      <td>0</td>\n",
              "      <td>1</td>\n",
              "      <td>0</td>\n",
              "      <td>0</td>\n",
              "    </tr>\n",
              "    <tr>\n",
              "      <th>1419</th>\n",
              "      <td>10235014</td>\n",
              "      <td>1075031</td>\n",
              "      <td>NaT</td>\n",
              "      <td>NaN</td>\n",
              "      <td>0.98</td>\n",
              "      <td>0</td>\n",
              "      <td>NaN</td>\n",
              "      <td>NaN</td>\n",
              "      <td>0</td>\n",
              "      <td>Downtown</td>\n",
              "      <td>47.615974</td>\n",
              "      <td>-122.340537</td>\n",
              "      <td>1</td>\n",
              "      <td>Apartment</td>\n",
              "      <td>Entire home/apt</td>\n",
              "      <td>2</td>\n",
              "      <td>1.0</td>\n",
              "      <td>1.0</td>\n",
              "      <td>1.0</td>\n",
              "      <td>Real Bed</td>\n",
              "      <td>{TV,\"Cable TV\",Internet,\"Wireless Internet\",\"A...</td>\n",
              "      <td>250.0</td>\n",
              "      <td>0.0</td>\n",
              "      <td>1</td>\n",
              "      <td>0.0</td>\n",
              "      <td>1</td>\n",
              "      <td>1125</td>\n",
              "      <td>a week ago</td>\n",
              "      <td>3</td>\n",
              "      <td>3</td>\n",
              "      <td>3</td>\n",
              "      <td>3</td>\n",
              "      <td>0</td>\n",
              "      <td>NaT</td>\n",
              "      <td>NaT</td>\n",
              "      <td>NaN</td>\n",
              "      <td>NaN</td>\n",
              "      <td>NaN</td>\n",
              "      <td>NaN</td>\n",
              "      <td>NaN</td>\n",
              "      <td>NaN</td>\n",
              "      <td>NaN</td>\n",
              "      <td>0</td>\n",
              "      <td>flexible</td>\n",
              "      <td>0</td>\n",
              "      <td>0</td>\n",
              "      <td>1</td>\n",
              "      <td>NaN</td>\n",
              "      <td>NaT</td>\n",
              "      <td>0</td>\n",
              "      <td>0</td>\n",
              "      <td>0</td>\n",
              "      <td>0</td>\n",
              "      <td>1</td>\n",
              "      <td>1</td>\n",
              "      <td>0</td>\n",
              "      <td>0</td>\n",
              "      <td>0</td>\n",
              "      <td>0</td>\n",
              "      <td>1</td>\n",
              "      <td>0</td>\n",
              "      <td>0</td>\n",
              "      <td>0</td>\n",
              "      <td>0</td>\n",
              "      <td>1</td>\n",
              "      <td>0</td>\n",
              "      <td>1</td>\n",
              "      <td>0</td>\n",
              "      <td>0</td>\n",
              "      <td>0</td>\n",
              "    </tr>\n",
              "  </tbody>\n",
              "</table>\n",
              "</div>"
            ],
            "text/plain": [
              "            id   host_id  ... cancellation_policy_strict cancellation_policy_nan\n",
              "1297   8354452  42515980  ...                          0                       0\n",
              "1419  10235014   1075031  ...                          0                       0\n",
              "\n",
              "[2 rows x 70 columns]"
            ]
          },
          "metadata": {
            "tags": []
          },
          "execution_count": 80
        }
      ]
    },
    {
      "cell_type": "code",
      "metadata": {
        "id": "ZGknJaD6JFpD"
      },
      "source": [
        "# Each host_id post only 1 host property, respectively\n",
        "# Fill the NA in host_listings_count, host_total_listings_count with 1\n",
        "listings[['host_listings_count','host_total_listings_count']] = listings[['host_listings_count',\n",
        "                                                                          'host_total_listings_count']].apply(lambda x: x.fillna(1));"
      ],
      "execution_count": 81,
      "outputs": []
    },
    {
      "cell_type": "code",
      "metadata": {
        "colab": {
          "base_uri": "https://localhost:8080/"
        },
        "id": "vt9zfAdbp-24",
        "outputId": "553e1dc3-11a6-4ac7-9cb8-d1c93a18aae6"
      },
      "source": [
        "listings[['host_listings_count','host_total_listings_count']].isnull().sum()"
      ],
      "execution_count": 83,
      "outputs": [
        {
          "output_type": "execute_result",
          "data": {
            "text/plain": [
              "host_listings_count          0\n",
              "host_total_listings_count    0\n",
              "dtype: int64"
            ]
          },
          "metadata": {
            "tags": []
          },
          "execution_count": 83
        }
      ]
    },
    {
      "cell_type": "markdown",
      "metadata": {
        "id": "rBw7II9MLz-v"
      },
      "source": [
        "**Remove the NAN in bedrooms, bathrooms and beds**"
      ]
    },
    {
      "cell_type": "code",
      "metadata": {
        "id": "8wMV-susLmFi"
      },
      "source": [
        "listings.dropna(subset=['bathrooms','bedrooms','beds'],how='any',axis=0,inplace = True)"
      ],
      "execution_count": 84,
      "outputs": []
    },
    {
      "cell_type": "markdown",
      "metadata": {
        "id": "WWNNMJJPMd5-"
      },
      "source": [
        "**Remove NAN in host_duration since there's only 2 nan**"
      ]
    },
    {
      "cell_type": "code",
      "metadata": {
        "colab": {
          "base_uri": "https://localhost:8080/"
        },
        "id": "WrjaWlJnMQdc",
        "outputId": "4342cc46-cd18-4383-a68a-a8efc73d8981"
      },
      "source": [
        "listings.host_duration.isnull().sum()"
      ],
      "execution_count": 85,
      "outputs": [
        {
          "output_type": "execute_result",
          "data": {
            "text/plain": [
              "2"
            ]
          },
          "metadata": {
            "tags": []
          },
          "execution_count": 85
        }
      ]
    },
    {
      "cell_type": "code",
      "metadata": {
        "id": "dZm39q8UMk4A"
      },
      "source": [
        "listings = listings.dropna(subset=['host_duration'],how='any',axis=0)"
      ],
      "execution_count": 86,
      "outputs": []
    },
    {
      "cell_type": "markdown",
      "metadata": {
        "id": "Z2G0CfMDNSbz"
      },
      "source": [
        "**Impute review ratings with the average of each property type in each neighborhood**"
      ]
    },
    {
      "cell_type": "code",
      "metadata": {
        "colab": {
          "base_uri": "https://localhost:8080/"
        },
        "id": "ATFnVHk0NSr_",
        "outputId": "d04acbfa-c9f6-45f1-fda2-510f784c0e06"
      },
      "source": [
        "cols_with_NAN = listings.isnull().mean()[listings.isnull().sum() != 0].index.to_list()\n",
        "reviews_col = []\n",
        "for i in cols_with_NAN:\n",
        "  if 'review_' in i:\n",
        "    reviews_col.append(i)\n",
        "  elif 'review_s' in i:\n",
        "    reviews_col.append(i)\n",
        "  else:\n",
        "    pass\n",
        "reviews_col"
      ],
      "execution_count": 88,
      "outputs": [
        {
          "output_type": "execute_result",
          "data": {
            "text/plain": [
              "['review_scores_rating',\n",
              " 'review_scores_accuracy',\n",
              " 'review_scores_cleanliness',\n",
              " 'review_scores_checkin',\n",
              " 'review_scores_communication',\n",
              " 'review_scores_location',\n",
              " 'review_scores_value']"
            ]
          },
          "metadata": {
            "tags": []
          },
          "execution_count": 88
        }
      ]
    },
    {
      "cell_type": "code",
      "metadata": {
        "colab": {
          "base_uri": "https://localhost:8080/",
          "height": 518
        },
        "id": "wy-umD6LPIOU",
        "outputId": "f7ac9b8d-baa4-4cb8-a4d5-c72c19522090"
      },
      "source": [
        "listings[['neighbourhood_group_cleansed','property_type','review_scores_rating','review_scores_accuracy',\n",
        "          'review_scores_cleanliness','review_scores_checkin','review_scores_communication','review_scores_location',\n",
        "          'review_scores_value']].groupby(['neighbourhood_group_cleansed','property_type']).mean()\n"
      ],
      "execution_count": 89,
      "outputs": [
        {
          "output_type": "execute_result",
          "data": {
            "text/html": [
              "<div>\n",
              "<style scoped>\n",
              "    .dataframe tbody tr th:only-of-type {\n",
              "        vertical-align: middle;\n",
              "    }\n",
              "\n",
              "    .dataframe tbody tr th {\n",
              "        vertical-align: top;\n",
              "    }\n",
              "\n",
              "    .dataframe thead th {\n",
              "        text-align: right;\n",
              "    }\n",
              "</style>\n",
              "<table border=\"1\" class=\"dataframe\">\n",
              "  <thead>\n",
              "    <tr style=\"text-align: right;\">\n",
              "      <th></th>\n",
              "      <th></th>\n",
              "      <th>review_scores_rating</th>\n",
              "      <th>review_scores_accuracy</th>\n",
              "      <th>review_scores_cleanliness</th>\n",
              "      <th>review_scores_checkin</th>\n",
              "      <th>review_scores_communication</th>\n",
              "      <th>review_scores_location</th>\n",
              "      <th>review_scores_value</th>\n",
              "    </tr>\n",
              "    <tr>\n",
              "      <th>neighbourhood_group_cleansed</th>\n",
              "      <th>property_type</th>\n",
              "      <th></th>\n",
              "      <th></th>\n",
              "      <th></th>\n",
              "      <th></th>\n",
              "      <th></th>\n",
              "      <th></th>\n",
              "      <th></th>\n",
              "    </tr>\n",
              "  </thead>\n",
              "  <tbody>\n",
              "    <tr>\n",
              "      <th rowspan=\"4\" valign=\"top\">Ballard</th>\n",
              "      <th>Apartment</th>\n",
              "      <td>95.865385</td>\n",
              "      <td>9.711538</td>\n",
              "      <td>9.692308</td>\n",
              "      <td>9.923077</td>\n",
              "      <td>9.961538</td>\n",
              "      <td>9.769231</td>\n",
              "      <td>9.615385</td>\n",
              "    </tr>\n",
              "    <tr>\n",
              "      <th>House</th>\n",
              "      <td>95.328000</td>\n",
              "      <td>9.720000</td>\n",
              "      <td>9.664000</td>\n",
              "      <td>9.888000</td>\n",
              "      <td>9.920000</td>\n",
              "      <td>9.760000</td>\n",
              "      <td>9.544000</td>\n",
              "    </tr>\n",
              "    <tr>\n",
              "      <th>Others</th>\n",
              "      <td>95.875000</td>\n",
              "      <td>9.875000</td>\n",
              "      <td>9.625000</td>\n",
              "      <td>10.000000</td>\n",
              "      <td>9.875000</td>\n",
              "      <td>9.750000</td>\n",
              "      <td>9.750000</td>\n",
              "    </tr>\n",
              "    <tr>\n",
              "      <th>Townhouse or Condo</th>\n",
              "      <td>96.250000</td>\n",
              "      <td>9.875000</td>\n",
              "      <td>9.625000</td>\n",
              "      <td>9.875000</td>\n",
              "      <td>9.875000</td>\n",
              "      <td>9.875000</td>\n",
              "      <td>9.500000</td>\n",
              "    </tr>\n",
              "    <tr>\n",
              "      <th>Beacon Hill</th>\n",
              "      <th>Apartment</th>\n",
              "      <td>93.000000</td>\n",
              "      <td>9.476190</td>\n",
              "      <td>9.523810</td>\n",
              "      <td>10.000000</td>\n",
              "      <td>10.000000</td>\n",
              "      <td>9.333333</td>\n",
              "      <td>9.380952</td>\n",
              "    </tr>\n",
              "    <tr>\n",
              "      <th>...</th>\n",
              "      <th>...</th>\n",
              "      <td>...</td>\n",
              "      <td>...</td>\n",
              "      <td>...</td>\n",
              "      <td>...</td>\n",
              "      <td>...</td>\n",
              "      <td>...</td>\n",
              "      <td>...</td>\n",
              "    </tr>\n",
              "    <tr>\n",
              "      <th>University District</th>\n",
              "      <th>Townhouse or Condo</th>\n",
              "      <td>94.250000</td>\n",
              "      <td>10.000000</td>\n",
              "      <td>9.500000</td>\n",
              "      <td>9.250000</td>\n",
              "      <td>10.000000</td>\n",
              "      <td>10.000000</td>\n",
              "      <td>10.000000</td>\n",
              "    </tr>\n",
              "    <tr>\n",
              "      <th rowspan=\"4\" valign=\"top\">West Seattle</th>\n",
              "      <th>Apartment</th>\n",
              "      <td>96.343750</td>\n",
              "      <td>9.906250</td>\n",
              "      <td>9.875000</td>\n",
              "      <td>9.906250</td>\n",
              "      <td>9.875000</td>\n",
              "      <td>9.937500</td>\n",
              "      <td>9.781250</td>\n",
              "    </tr>\n",
              "    <tr>\n",
              "      <th>House</th>\n",
              "      <td>96.008696</td>\n",
              "      <td>9.678261</td>\n",
              "      <td>9.739130</td>\n",
              "      <td>9.930435</td>\n",
              "      <td>9.930435</td>\n",
              "      <td>9.721739</td>\n",
              "      <td>9.600000</td>\n",
              "    </tr>\n",
              "    <tr>\n",
              "      <th>Others</th>\n",
              "      <td>96.333333</td>\n",
              "      <td>9.833333</td>\n",
              "      <td>9.833333</td>\n",
              "      <td>10.000000</td>\n",
              "      <td>9.833333</td>\n",
              "      <td>9.666667</td>\n",
              "      <td>9.666667</td>\n",
              "    </tr>\n",
              "    <tr>\n",
              "      <th>Townhouse or Condo</th>\n",
              "      <td>91.750000</td>\n",
              "      <td>9.500000</td>\n",
              "      <td>9.375000</td>\n",
              "      <td>9.750000</td>\n",
              "      <td>9.625000</td>\n",
              "      <td>9.750000</td>\n",
              "      <td>9.625000</td>\n",
              "    </tr>\n",
              "  </tbody>\n",
              "</table>\n",
              "<p>65 rows × 7 columns</p>\n",
              "</div>"
            ],
            "text/plain": [
              "                                                 review_scores_rating  ...  review_scores_value\n",
              "neighbourhood_group_cleansed property_type                             ...                     \n",
              "Ballard                      Apartment                      95.865385  ...             9.615385\n",
              "                             House                          95.328000  ...             9.544000\n",
              "                             Others                         95.875000  ...             9.750000\n",
              "                             Townhouse or Condo             96.250000  ...             9.500000\n",
              "Beacon Hill                  Apartment                      93.000000  ...             9.380952\n",
              "...                                                               ...  ...                  ...\n",
              "University District          Townhouse or Condo             94.250000  ...            10.000000\n",
              "West Seattle                 Apartment                      96.343750  ...             9.781250\n",
              "                             House                          96.008696  ...             9.600000\n",
              "                             Others                         96.333333  ...             9.666667\n",
              "                             Townhouse or Condo             91.750000  ...             9.625000\n",
              "\n",
              "[65 rows x 7 columns]"
            ]
          },
          "metadata": {
            "tags": []
          },
          "execution_count": 89
        }
      ]
    },
    {
      "cell_type": "code",
      "metadata": {
        "id": "RerEb2fbjFsG"
      },
      "source": [
        "for i in reviews_col:\n",
        "  listings[i] = listings.groupby(['neighbourhood_group_cleansed','property_type'])[i].apply(lambda x: x.fillna(x.mean()))"
      ],
      "execution_count": 90,
      "outputs": []
    },
    {
      "cell_type": "code",
      "metadata": {
        "colab": {
          "base_uri": "https://localhost:8080/"
        },
        "id": "YyiyB8kvn7Kw",
        "outputId": "f6be01dd-b14f-4651-f343-4e192299e8e8"
      },
      "source": [
        "listings.isnull().mean()[listings.isnull().sum() != 0]"
      ],
      "execution_count": 91,
      "outputs": [
        {
          "output_type": "execute_result",
          "data": {
            "text/plain": [
              "host_response_time             0.136795\n",
              "first_review                   0.163679\n",
              "last_review                    0.163679\n",
              "review_scores_rating           0.000527\n",
              "review_scores_accuracy         0.000527\n",
              "review_scores_cleanliness      0.000527\n",
              "review_scores_checkin          0.000527\n",
              "review_scores_communication    0.000527\n",
              "review_scores_location         0.000527\n",
              "review_scores_value            0.000527\n",
              "reviews_per_month              0.163679\n",
              "dtype: float64"
            ]
          },
          "metadata": {
            "tags": []
          },
          "execution_count": 91
        }
      ]
    },
    {
      "cell_type": "code",
      "metadata": {
        "id": "wouwGsNArDJe"
      },
      "source": [
        "# Impute the rest na with average of neibourhood\n",
        "for i in reviews_col:\n",
        "  listings[i] = listings.groupby(['neighbourhood_group_cleansed'])[i].apply(lambda x: x.fillna(x.mean()))"
      ],
      "execution_count": 92,
      "outputs": []
    },
    {
      "cell_type": "code",
      "metadata": {
        "colab": {
          "base_uri": "https://localhost:8080/"
        },
        "id": "-JmYF3hXrUqi",
        "outputId": "08af3372-0bb0-43e0-bfdc-e75b29b5bd47"
      },
      "source": [
        "listings.isnull().mean()[listings.isnull().sum() != 0]"
      ],
      "execution_count": 93,
      "outputs": [
        {
          "output_type": "execute_result",
          "data": {
            "text/plain": [
              "host_response_time    0.136795\n",
              "first_review          0.163679\n",
              "last_review           0.163679\n",
              "reviews_per_month     0.163679\n",
              "dtype: float64"
            ]
          },
          "metadata": {
            "tags": []
          },
          "execution_count": 93
        }
      ]
    },
    {
      "cell_type": "code",
      "metadata": {
        "colab": {
          "base_uri": "https://localhost:8080/",
          "height": 388
        },
        "id": "jZma4cfLnueC",
        "outputId": "dc5a4c88-c9f9-4080-c33f-481d1612559c"
      },
      "source": [
        "df_copy = listings.copy()\n",
        "\n",
        "# Update the data clean log\n",
        "data_clean_log.at[10,['action','nrow_after','ncol_after']] = ['Dealing with some missing value',\n",
        "                                                             listings.shape[0],\n",
        "                                                             listings.shape[1]]\n",
        "data_clean_log"
      ],
      "execution_count": 94,
      "outputs": [
        {
          "output_type": "execute_result",
          "data": {
            "text/html": [
              "<div>\n",
              "<style scoped>\n",
              "    .dataframe tbody tr th:only-of-type {\n",
              "        vertical-align: middle;\n",
              "    }\n",
              "\n",
              "    .dataframe tbody tr th {\n",
              "        vertical-align: top;\n",
              "    }\n",
              "\n",
              "    .dataframe thead th {\n",
              "        text-align: right;\n",
              "    }\n",
              "</style>\n",
              "<table border=\"1\" class=\"dataframe\">\n",
              "  <thead>\n",
              "    <tr style=\"text-align: right;\">\n",
              "      <th></th>\n",
              "      <th>action</th>\n",
              "      <th>nrow_after</th>\n",
              "      <th>ncol_after</th>\n",
              "    </tr>\n",
              "  </thead>\n",
              "  <tbody>\n",
              "    <tr>\n",
              "      <th>0</th>\n",
              "      <td>Start</td>\n",
              "      <td>3818.0</td>\n",
              "      <td>92.0</td>\n",
              "    </tr>\n",
              "    <tr>\n",
              "      <th>1</th>\n",
              "      <td>Remove unrelated features</td>\n",
              "      <td>3818.0</td>\n",
              "      <td>81.0</td>\n",
              "    </tr>\n",
              "    <tr>\n",
              "      <th>2</th>\n",
              "      <td>Drop features with more than 40% of NAN</td>\n",
              "      <td>3818.0</td>\n",
              "      <td>75.0</td>\n",
              "    </tr>\n",
              "    <tr>\n",
              "      <th>3</th>\n",
              "      <td>Drop features with low variability</td>\n",
              "      <td>3818.0</td>\n",
              "      <td>65.0</td>\n",
              "    </tr>\n",
              "    <tr>\n",
              "      <th>4</th>\n",
              "      <td>Drop text features</td>\n",
              "      <td>3818.0</td>\n",
              "      <td>51.0</td>\n",
              "    </tr>\n",
              "    <tr>\n",
              "      <th>5</th>\n",
              "      <td>Recode Price features</td>\n",
              "      <td>3818.0</td>\n",
              "      <td>51.0</td>\n",
              "    </tr>\n",
              "    <tr>\n",
              "      <th>6</th>\n",
              "      <td>Recode Percentage features</td>\n",
              "      <td>3818.0</td>\n",
              "      <td>51.0</td>\n",
              "    </tr>\n",
              "    <tr>\n",
              "      <th>7</th>\n",
              "      <td>Recode Boolean features</td>\n",
              "      <td>3818.0</td>\n",
              "      <td>51.0</td>\n",
              "    </tr>\n",
              "    <tr>\n",
              "      <th>8</th>\n",
              "      <td>Recode date features</td>\n",
              "      <td>3818.0</td>\n",
              "      <td>52.0</td>\n",
              "    </tr>\n",
              "    <tr>\n",
              "      <th>9</th>\n",
              "      <td>Create dummy variables</td>\n",
              "      <td>3818.0</td>\n",
              "      <td>70.0</td>\n",
              "    </tr>\n",
              "    <tr>\n",
              "      <th>10</th>\n",
              "      <td>Dealing with some missing value</td>\n",
              "      <td>3794.0</td>\n",
              "      <td>70.0</td>\n",
              "    </tr>\n",
              "  </tbody>\n",
              "</table>\n",
              "</div>"
            ],
            "text/plain": [
              "                                     action  nrow_after  ncol_after\n",
              "0                                     Start      3818.0        92.0\n",
              "1                 Remove unrelated features      3818.0        81.0\n",
              "2   Drop features with more than 40% of NAN      3818.0        75.0\n",
              "3        Drop features with low variability      3818.0        65.0\n",
              "4                        Drop text features      3818.0        51.0\n",
              "5                     Recode Price features      3818.0        51.0\n",
              "6                Recode Percentage features      3818.0        51.0\n",
              "7                   Recode Boolean features      3818.0        51.0\n",
              "8                      Recode date features      3818.0        52.0\n",
              "9                    Create dummy variables      3818.0        70.0\n",
              "10          Dealing with some missing value      3794.0        70.0"
            ]
          },
          "metadata": {
            "tags": []
          },
          "execution_count": 94
        }
      ]
    },
    {
      "cell_type": "code",
      "metadata": {
        "id": "eugu1RMOrhL7"
      },
      "source": [
        "# Save the cleaned dataframe\n",
        "listings.to_csv('cleaned_list.csv')"
      ],
      "execution_count": 95,
      "outputs": []
    }
  ]
}
